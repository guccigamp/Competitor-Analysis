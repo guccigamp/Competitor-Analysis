{
 "cells": [
  {
   "cell_type": "markdown",
   "metadata": {},
   "source": [
    "# Visuals for the Dash App"
   ]
  },
  {
   "cell_type": "code",
   "execution_count": 9,
   "metadata": {},
   "outputs": [],
   "source": [
    "import plotly.express as px\n",
    "import pandas as pd\n",
    "\n",
    "companies_df = pd.read_csv(\"Comp Analysis- BI Report.csv\")"
   ]
  },
  {
   "cell_type": "markdown",
   "metadata": {},
   "source": [
    "#### List of Companies"
   ]
  },
  {
   "cell_type": "code",
   "execution_count": 10,
   "metadata": {},
   "outputs": [
    {
     "data": {
      "text/plain": [
       "array(['Alleguard - Huntington', 'Cellofoam', 'Modern Polymers', 'EFP',\n",
       "       'Aptco', 'Tempo Precision Molded Foam', 'ACH Foam Technologies',\n",
       "       'Atlas Molded Products', 'Sonoco', 'Cold Keepers', 'Styrotech',\n",
       "       'OpCO', 'Plastillite', 'Houston Foam Plastics',\n",
       "       'Imperial Foam & Insulation', 'Marko Foam', 'Michigan Foam',\n",
       "       'Pal Pac', 'Branch River Plastics', 'FMI-EPS', 'Polar Central',\n",
       "       'Mister Packaging', 'ThermaFoam', 'Robin II',\n",
       "       'Foam Pack Industries', 'Clyde Tool & Die', 'DiversiFoam Products',\n",
       "       'Beaver Plastics', 'Aqua-Pak Industries Ltd', 'Creative Packaging',\n",
       "       'Custom Pack', 'Insulated Products Corp (IPC)', 'Magna LoBoy',\n",
       "       'Speedling', 'Insulfoam LLC', 'Armstrong Brands'], dtype=object)"
      ]
     },
     "execution_count": 10,
     "metadata": {},
     "output_type": "execute_result"
    }
   ],
   "source": [
    "companies_df.top_competitors.unique()"
   ]
  },
  {
   "cell_type": "markdown",
   "metadata": {},
   "source": [
    "### View All Scatter Plot"
   ]
  },
  {
   "cell_type": "code",
   "execution_count": 13,
   "metadata": {},
   "outputs": [
    {
     "data": {
      "application/vnd.plotly.v1+json": {
       "config": {
        "plotlyServerURL": "https://plot.ly"
       },
       "data": [
        {
         "cluster": {
          "enabled": true
         },
         "customdata": [
          [
           "Grove City",
           "OH",
           "Alleguard - Huntington",
           39.8821935,
           -83.0935377
          ],
          [
           "Bastrop",
           "TX",
           "Alleguard - Huntington",
           30.1104947,
           -97.3152701
          ],
          [
           "Cave Spring ",
           "GA",
           "Alleguard - Huntington",
           34.1075975,
           -85.33634339999999
          ],
          [
           "Greer",
           "SC",
           "Alleguard - Huntington",
           34.9387279,
           -82.2270568
          ],
          [
           "Greenville",
           "MI",
           "Alleguard - Huntington",
           43.1775314,
           -85.2527987
          ],
          [
           "Radford",
           "VA",
           "Alleguard - Huntington",
           37.13179239999999,
           -80.5764477
          ],
          [
           "West Brookfield",
           "MA",
           "Alleguard - Huntington",
           42.2353463,
           -72.14116419999999
          ],
          [
           "Monticello",
           "AR",
           "Alleguard - Huntington",
           33.6296702,
           -91.8021856
          ]
         ],
         "hovertemplate": "<b>%{hovertext}</b><br><br>city=%{customdata[0]}<br>state=%{customdata[1]}<extra></extra>",
         "hovertext": [
          "Alleguard - Huntington",
          "Alleguard - Huntington",
          "Alleguard - Huntington",
          "Alleguard - Huntington",
          "Alleguard - Huntington",
          "Alleguard - Huntington",
          "Alleguard - Huntington",
          "Alleguard - Huntington"
         ],
         "lat": [
          39.8821935,
          30.1104947,
          34.1075975,
          34.9387279,
          43.1775314,
          37.13179239999999,
          42.2353463,
          33.6296702
         ],
         "legendgroup": "Alleguard - Huntington",
         "lon": [
          -83.0935377,
          -97.3152701,
          -85.33634339999999,
          -82.2270568,
          -85.2527987,
          -80.5764477,
          -72.14116419999999,
          -91.8021856
         ],
         "marker": {
          "color": "#636efa"
         },
         "mode": "markers",
         "name": "Alleguard - Huntington",
         "showlegend": true,
         "subplot": "mapbox",
         "type": "scattermapbox"
        },
        {
         "cluster": {
          "enabled": true
         },
         "customdata": [
          [
           "Whiteland",
           "IN",
           "Cellofoam",
           39.5500485,
           -86.0797079
          ],
          [
           "Sallisaw",
           "OK",
           "Cellofoam",
           35.4603711,
           -94.7874463
          ],
          [
           "Conyers",
           "GA",
           "Cellofoam",
           33.6676103,
           -84.01769039999999
          ],
          [
           "Gainesville",
           "GA",
           "Cellofoam",
           34.2978794,
           -83.8240663
          ],
          [
           "Conyers",
           "GA",
           "Cellofoam",
           33.6676103,
           -84.01769039999999
          ],
          [
           "Orlando",
           "FL",
           "Cellofoam",
           28.5383832,
           -81.3789269
          ],
          [
           "Fredericksburg",
           "VA",
           "Cellofoam",
           38.3031837,
           -77.4605399
          ],
          [
           "Winchester",
           "VA",
           "Cellofoam",
           39.1856597,
           -78.1633341
          ]
         ],
         "hovertemplate": "<b>%{hovertext}</b><br><br>city=%{customdata[0]}<br>state=%{customdata[1]}<extra></extra>",
         "hovertext": [
          "Cellofoam",
          "Cellofoam",
          "Cellofoam",
          "Cellofoam",
          "Cellofoam",
          "Cellofoam",
          "Cellofoam",
          "Cellofoam"
         ],
         "lat": [
          39.5500485,
          35.4603711,
          33.6676103,
          34.2978794,
          33.6676103,
          28.5383832,
          38.3031837,
          39.1856597
         ],
         "legendgroup": "Cellofoam",
         "lon": [
          -86.0797079,
          -94.7874463,
          -84.01769039999999,
          -83.8240663,
          -84.01769039999999,
          -81.3789269,
          -77.4605399,
          -78.1633341
         ],
         "marker": {
          "color": "#EF553B"
         },
         "mode": "markers",
         "name": "Cellofoam",
         "showlegend": true,
         "subplot": "mapbox",
         "type": "scattermapbox"
        },
        {
         "cluster": {
          "enabled": true
         },
         "customdata": [
          [
           "Cherryville",
           "NC",
           "Modern Polymers",
           35.3789361,
           -81.3795737
          ]
         ],
         "hovertemplate": "<b>%{hovertext}</b><br><br>city=%{customdata[0]}<br>state=%{customdata[1]}<extra></extra>",
         "hovertext": [
          "Modern Polymers"
         ],
         "lat": [
          35.3789361
         ],
         "legendgroup": "Modern Polymers",
         "lon": [
          -81.3795737
         ],
         "marker": {
          "color": "#00cc96"
         },
         "mode": "markers",
         "name": "Modern Polymers",
         "showlegend": true,
         "subplot": "mapbox",
         "type": "scattermapbox"
        },
        {
         "cluster": {
          "enabled": true
         },
         "customdata": [
          [
           "Reno",
           "NV",
           "EFP",
           39.529919,
           -119.8142691
          ],
          [
           "Casa Granda",
           "AZ",
           "EFP",
           32.9110027,
           -111.7733902
          ],
          [
           "Evansville",
           "IN",
           "EFP",
           37.9715592,
           -87.5710898
          ],
          [
           "La vergne",
           "TN",
           "EFP",
           36.0156178,
           -86.5819394
          ],
          [
           "Decatur",
           "AL",
           "EFP",
           34.6059253,
           -86.9833417
          ],
          [
           "Bishopville",
           "SC",
           "EFP",
           34.2182107,
           -80.2484056
          ],
          [
           "Elkhart",
           "IN",
           "EFP",
           41.6873832,
           -85.973517
          ]
         ],
         "hovertemplate": "<b>%{hovertext}</b><br><br>city=%{customdata[0]}<br>state=%{customdata[1]}<extra></extra>",
         "hovertext": [
          "EFP",
          "EFP",
          "EFP",
          "EFP",
          "EFP",
          "EFP",
          "EFP"
         ],
         "lat": [
          39.529919,
          32.9110027,
          37.9715592,
          36.0156178,
          34.6059253,
          34.2182107,
          41.6873832
         ],
         "legendgroup": "EFP",
         "lon": [
          -119.8142691,
          -111.7733902,
          -87.5710898,
          -86.5819394,
          -86.9833417,
          -80.2484056,
          -85.973517
         ],
         "marker": {
          "color": "#ab63fa"
         },
         "mode": "markers",
         "name": "EFP",
         "showlegend": true,
         "subplot": "mapbox",
         "type": "scattermapbox"
        },
        {
         "cluster": {
          "enabled": true
         },
         "customdata": [
          [
           "McFarland",
           "CA",
           "Aptco",
           35.6780104,
           -119.2292748
          ]
         ],
         "hovertemplate": "<b>%{hovertext}</b><br><br>city=%{customdata[0]}<br>state=%{customdata[1]}<extra></extra>",
         "hovertext": [
          "Aptco"
         ],
         "lat": [
          35.6780104
         ],
         "legendgroup": "Aptco",
         "lon": [
          -119.2292748
         ],
         "marker": {
          "color": "#FFA15A"
         },
         "mode": "markers",
         "name": "Aptco",
         "showlegend": true,
         "subplot": "mapbox",
         "type": "scattermapbox"
        },
        {
         "cluster": {
          "enabled": true
         },
         "customdata": [
          [
           "Visalia",
           "CA",
           "Tempo Precision Molded Foam",
           36.3301329,
           -119.2966367
          ]
         ],
         "hovertemplate": "<b>%{hovertext}</b><br><br>city=%{customdata[0]}<br>state=%{customdata[1]}<extra></extra>",
         "hovertext": [
          "Tempo Precision Molded Foam"
         ],
         "lat": [
          36.3301329
         ],
         "legendgroup": "Tempo Precision Molded Foam",
         "lon": [
          -119.2966367
         ],
         "marker": {
          "color": "#19d3f3"
         },
         "mode": "markers",
         "name": "Tempo Precision Molded Foam",
         "showlegend": true,
         "subplot": "mapbox",
         "type": "scattermapbox"
        },
        {
         "cluster": {
          "enabled": true
         },
         "customdata": [
          [
           "McKinney",
           "TX",
           "ACH Foam Technologies",
           33.1983388,
           -96.6389342
          ],
          [
           "Westminster",
           "CO",
           "ACH Foam Technologies",
           39.8366528,
           -105.0372046
          ]
         ],
         "hovertemplate": "<b>%{hovertext}</b><br><br>city=%{customdata[0]}<br>state=%{customdata[1]}<extra></extra>",
         "hovertext": [
          "ACH Foam Technologies",
          "ACH Foam Technologies"
         ],
         "lat": [
          33.1983388,
          39.8366528
         ],
         "legendgroup": "ACH Foam Technologies",
         "lon": [
          -96.6389342,
          -105.0372046
         ],
         "marker": {
          "color": "#FF6692"
         },
         "mode": "markers",
         "name": "ACH Foam Technologies",
         "showlegend": true,
         "subplot": "mapbox",
         "type": "scattermapbox"
        },
        {
         "cluster": {
          "enabled": true
         },
         "customdata": [
          [
           "Sylmar",
           "CA",
           "Atlas Molded Products",
           34.2994874,
           -118.4588292
          ],
          [
           "Denver",
           "CO",
           "Atlas Molded Products",
           39.7392358,
           -104.990251
          ],
          [
           "Murray",
           "UT",
           "Atlas Molded Products",
           40.6668916,
           -111.8879909
          ],
          [
           "Reno",
           "NV",
           "Atlas Molded Products",
           39.529919,
           -119.8142691
          ],
          [
           "Kingman",
           "AZ",
           "Atlas Molded Products",
           35.189443,
           -114.0530065
          ],
          [
           "E Arlington",
           "TX",
           "Atlas Molded Products",
           32.735687,
           -97.1080656
          ],
          [
           "Byron Center",
           "MI",
           "Atlas Molded Products",
           42.8122508,
           -85.7228061
          ],
          [
           "Fond du Lac",
           "WI",
           "Atlas Molded Products",
           43.7730448,
           -88.4470508
          ],
          [
           "Fredericktown",
           "MO",
           "Atlas Molded Products",
           37.55977540000001,
           -90.2940069
          ],
          [
           "Kansas City",
           "KS",
           "Atlas Molded Products",
           39.11553139999999,
           -94.6267873
          ],
          [
           "Perryville",
           "MO",
           "Atlas Molded Products",
           37.7242202,
           -89.8612196
          ],
          [
           "Washington",
           "IA",
           "Atlas Molded Products",
           41.30140770000001,
           -91.6916417
          ],
          [
           "Gainesville",
           "GA",
           "Atlas Molded Products",
           34.2978794,
           -83.8240663
          ],
          [
           "Kansas City",
           "KS",
           "Atlas Molded Products",
           39.11553139999999,
           -94.6267873
          ]
         ],
         "hovertemplate": "<b>%{hovertext}</b><br><br>city=%{customdata[0]}<br>state=%{customdata[1]}<extra></extra>",
         "hovertext": [
          "Atlas Molded Products",
          "Atlas Molded Products",
          "Atlas Molded Products",
          "Atlas Molded Products",
          "Atlas Molded Products",
          "Atlas Molded Products",
          "Atlas Molded Products",
          "Atlas Molded Products",
          "Atlas Molded Products",
          "Atlas Molded Products",
          "Atlas Molded Products",
          "Atlas Molded Products",
          "Atlas Molded Products",
          "Atlas Molded Products"
         ],
         "lat": [
          34.2994874,
          39.7392358,
          40.6668916,
          39.529919,
          35.189443,
          32.735687,
          42.8122508,
          43.7730448,
          37.55977540000001,
          39.11553139999999,
          37.7242202,
          41.30140770000001,
          34.2978794,
          39.11553139999999
         ],
         "legendgroup": "Atlas Molded Products",
         "lon": [
          -118.4588292,
          -104.990251,
          -111.8879909,
          -119.8142691,
          -114.0530065,
          -97.1080656,
          -85.7228061,
          -88.4470508,
          -90.2940069,
          -94.6267873,
          -89.8612196,
          -91.6916417,
          -83.8240663,
          -94.6267873
         ],
         "marker": {
          "color": "#B6E880"
         },
         "mode": "markers",
         "name": "Atlas Molded Products",
         "showlegend": true,
         "subplot": "mapbox",
         "type": "scattermapbox"
        },
        {
         "cluster": {
          "enabled": true
         },
         "customdata": [
          [
           "Ridgeway",
           "VA",
           "Sonoco",
           36.5768046,
           -79.8583721
          ],
          [
           "Findlay",
           "OH",
           "Sonoco",
           41.0391283,
           -83.6502309
          ],
          [
           "Owosso",
           "MI",
           "Sonoco",
           42.9978049,
           -84.1766358
          ],
          [
           "Tullahoma",
           "TN",
           "Sonoco",
           35.3620235,
           -86.20943419999999
          ],
          [
           "Mt. Pleasant",
           "TN",
           "Sonoco",
           35.5342414,
           -87.20695409999999
          ],
          [
           "Shelbyville",
           "KY",
           "Sonoco",
           38.2120144,
           -85.2235666
          ],
          [
           "Colorado Springs",
           "CO",
           "Sonoco",
           38.8338816,
           -104.8213634
          ]
         ],
         "hovertemplate": "<b>%{hovertext}</b><br><br>city=%{customdata[0]}<br>state=%{customdata[1]}<extra></extra>",
         "hovertext": [
          "Sonoco",
          "Sonoco",
          "Sonoco",
          "Sonoco",
          "Sonoco",
          "Sonoco",
          "Sonoco"
         ],
         "lat": [
          36.5768046,
          41.0391283,
          42.9978049,
          35.3620235,
          35.5342414,
          38.2120144,
          38.8338816
         ],
         "legendgroup": "Sonoco",
         "lon": [
          -79.8583721,
          -83.6502309,
          -84.1766358,
          -86.20943419999999,
          -87.20695409999999,
          -85.2235666,
          -104.8213634
         ],
         "marker": {
          "color": "#FF97FF"
         },
         "mode": "markers",
         "name": "Sonoco",
         "showlegend": true,
         "subplot": "mapbox",
         "type": "scattermapbox"
        },
        {
         "cluster": {
          "enabled": true
         },
         "customdata": [
          [
           "Mcfarland",
           "CA",
           "Cold Keepers",
           35.6780104,
           -119.2292748
          ]
         ],
         "hovertemplate": "<b>%{hovertext}</b><br><br>city=%{customdata[0]}<br>state=%{customdata[1]}<extra></extra>",
         "hovertext": [
          "Cold Keepers"
         ],
         "lat": [
          35.6780104
         ],
         "legendgroup": "Cold Keepers",
         "lon": [
          -119.2292748
         ],
         "marker": {
          "color": "#FECB52"
         },
         "mode": "markers",
         "name": "Cold Keepers",
         "showlegend": true,
         "subplot": "mapbox",
         "type": "scattermapbox"
        },
        {
         "cluster": {
          "enabled": true
         },
         "customdata": [
          [
           "Thomasville",
           "GA",
           "Styrotech",
           30.8365815,
           -83.9787808
          ]
         ],
         "hovertemplate": "<b>%{hovertext}</b><br><br>city=%{customdata[0]}<br>state=%{customdata[1]}<extra></extra>",
         "hovertext": [
          "Styrotech"
         ],
         "lat": [
          30.8365815
         ],
         "legendgroup": "Styrotech",
         "lon": [
          -83.9787808
         ],
         "marker": {
          "color": "#636efa"
         },
         "mode": "markers",
         "name": "Styrotech",
         "showlegend": true,
         "subplot": "mapbox",
         "type": "scattermapbox"
        },
        {
         "cluster": {
          "enabled": true
         },
         "customdata": [
          [
           "Brooklyn Park",
           "MN",
           "OpCO",
           45.0941315,
           -93.3563405
          ]
         ],
         "hovertemplate": "<b>%{hovertext}</b><br><br>city=%{customdata[0]}<br>state=%{customdata[1]}<extra></extra>",
         "hovertext": [
          "OpCO"
         ],
         "lat": [
          45.0941315
         ],
         "legendgroup": "OpCO",
         "lon": [
          -93.3563405
         ],
         "marker": {
          "color": "#EF553B"
         },
         "mode": "markers",
         "name": "OpCO",
         "showlegend": true,
         "subplot": "mapbox",
         "type": "scattermapbox"
        },
        {
         "cluster": {
          "enabled": true
         },
         "customdata": [
          [
           "Latrobe",
           "PA",
           "Plastillite",
           40.3211808,
           -79.37948109999999
          ]
         ],
         "hovertemplate": "<b>%{hovertext}</b><br><br>city=%{customdata[0]}<br>state=%{customdata[1]}<extra></extra>",
         "hovertext": [
          "Plastillite"
         ],
         "lat": [
          40.3211808
         ],
         "legendgroup": "Plastillite",
         "lon": [
          -79.37948109999999
         ],
         "marker": {
          "color": "#00cc96"
         },
         "mode": "markers",
         "name": "Plastillite",
         "showlegend": true,
         "subplot": "mapbox",
         "type": "scattermapbox"
        },
        {
         "cluster": {
          "enabled": true
         },
         "customdata": [
          [
           "Omaha",
           "NE",
           "Houston Foam Plastics",
           41.2565369,
           -95.9345034
          ],
          [
           "Houston",
           "TX",
           "Houston Foam Plastics",
           29.7600771,
           -95.3701108
          ]
         ],
         "hovertemplate": "<b>%{hovertext}</b><br><br>city=%{customdata[0]}<br>state=%{customdata[1]}<extra></extra>",
         "hovertext": [
          "Houston Foam Plastics",
          "Houston Foam Plastics"
         ],
         "lat": [
          41.2565369,
          29.7600771
         ],
         "legendgroup": "Houston Foam Plastics",
         "lon": [
          -95.9345034,
          -95.3701108
         ],
         "marker": {
          "color": "#ab63fa"
         },
         "mode": "markers",
         "name": "Houston Foam Plastics",
         "showlegend": true,
         "subplot": "mapbox",
         "type": "scattermapbox"
        },
        {
         "cluster": {
          "enabled": true
         },
         "customdata": [
          [
           "San Antonio",
           "TX",
           "Imperial Foam & Insulation",
           29.4251905,
           -98.4945922
          ]
         ],
         "hovertemplate": "<b>%{hovertext}</b><br><br>city=%{customdata[0]}<br>state=%{customdata[1]}<extra></extra>",
         "hovertext": [
          "Imperial Foam & Insulation"
         ],
         "lat": [
          29.4251905
         ],
         "legendgroup": "Imperial Foam & Insulation",
         "lon": [
          -98.4945922
         ],
         "marker": {
          "color": "#FFA15A"
         },
         "mode": "markers",
         "name": "Imperial Foam & Insulation",
         "showlegend": true,
         "subplot": "mapbox",
         "type": "scattermapbox"
        },
        {
         "cluster": {
          "enabled": true
         },
         "customdata": [
          [
           "Ormond Beach",
           "FL",
           "Marko Foam",
           29.2858129,
           -81.0558894
          ],
          [
           "Huntington Beach",
           "CA",
           "Marko Foam",
           33.6594835,
           -117.9988026
          ]
         ],
         "hovertemplate": "<b>%{hovertext}</b><br><br>city=%{customdata[0]}<br>state=%{customdata[1]}<extra></extra>",
         "hovertext": [
          "Marko Foam",
          "Marko Foam"
         ],
         "lat": [
          29.2858129,
          33.6594835
         ],
         "legendgroup": "Marko Foam",
         "lon": [
          -81.0558894,
          -117.9988026
         ],
         "marker": {
          "color": "#19d3f3"
         },
         "mode": "markers",
         "name": "Marko Foam",
         "showlegend": true,
         "subplot": "mapbox",
         "type": "scattermapbox"
        },
        {
         "cluster": {
          "enabled": true
         },
         "customdata": [
          [
           "Salt Lake City ",
           "UT",
           "Michigan Foam",
           40.7607793,
           -111.8910474
          ]
         ],
         "hovertemplate": "<b>%{hovertext}</b><br><br>city=%{customdata[0]}<br>state=%{customdata[1]}<extra></extra>",
         "hovertext": [
          "Michigan Foam"
         ],
         "lat": [
          40.7607793
         ],
         "legendgroup": "Michigan Foam",
         "lon": [
          -111.8910474
         ],
         "marker": {
          "color": "#FF6692"
         },
         "mode": "markers",
         "name": "Michigan Foam",
         "showlegend": true,
         "subplot": "mapbox",
         "type": "scattermapbox"
        },
        {
         "cluster": {
          "enabled": true
         },
         "customdata": [
          [
           "Wyoming",
           "MI",
           "Pal Pac",
           42.9133602,
           -85.7053085
          ]
         ],
         "hovertemplate": "<b>%{hovertext}</b><br><br>city=%{customdata[0]}<br>state=%{customdata[1]}<extra></extra>",
         "hovertext": [
          "Pal Pac"
         ],
         "lat": [
          42.9133602
         ],
         "legendgroup": "Pal Pac",
         "lon": [
          -85.7053085
         ],
         "marker": {
          "color": "#B6E880"
         },
         "mode": "markers",
         "name": "Pal Pac",
         "showlegend": true,
         "subplot": "mapbox",
         "type": "scattermapbox"
        },
        {
         "cluster": {
          "enabled": true
         },
         "customdata": [
          [
           "Ottawa",
           "OH",
           "Branch River Plastics",
           41.0192185,
           -84.0471666
          ]
         ],
         "hovertemplate": "<b>%{hovertext}</b><br><br>city=%{customdata[0]}<br>state=%{customdata[1]}<extra></extra>",
         "hovertext": [
          "Branch River Plastics"
         ],
         "lat": [
          41.0192185
         ],
         "legendgroup": "Branch River Plastics",
         "lon": [
          -84.0471666
         ],
         "marker": {
          "color": "#FF97FF"
         },
         "mode": "markers",
         "name": "Branch River Plastics",
         "showlegend": true,
         "subplot": "mapbox",
         "type": "scattermapbox"
        },
        {
         "cluster": {
          "enabled": true
         },
         "customdata": [
          [
           "Smithfield",
           "RI",
           "FMI-EPS",
           41.9220496,
           -71.54951009999999
          ]
         ],
         "hovertemplate": "<b>%{hovertext}</b><br><br>city=%{customdata[0]}<br>state=%{customdata[1]}<extra></extra>",
         "hovertext": [
          "FMI-EPS"
         ],
         "lat": [
          41.9220496
         ],
         "legendgroup": "FMI-EPS",
         "lon": [
          -71.54951009999999
         ],
         "marker": {
          "color": "#FECB52"
         },
         "mode": "markers",
         "name": "FMI-EPS",
         "showlegend": true,
         "subplot": "mapbox",
         "type": "scattermapbox"
        },
        {
         "cluster": {
          "enabled": true
         },
         "customdata": [
          [
           "Post Falls",
           "ID",
           "Polar Central",
           47.7179578,
           -116.9515856
          ]
         ],
         "hovertemplate": "<b>%{hovertext}</b><br><br>city=%{customdata[0]}<br>state=%{customdata[1]}<extra></extra>",
         "hovertext": [
          "Polar Central"
         ],
         "lat": [
          47.7179578
         ],
         "legendgroup": "Polar Central",
         "lon": [
          -116.9515856
         ],
         "marker": {
          "color": "#636efa"
         },
         "mode": "markers",
         "name": "Polar Central",
         "showlegend": true,
         "subplot": "mapbox",
         "type": "scattermapbox"
        },
        {
         "cluster": {
          "enabled": true
         },
         "customdata": [
          [
           "Prospect",
           "CT",
           "Mister Packaging",
           41.5023192,
           -72.9787163
          ]
         ],
         "hovertemplate": "<b>%{hovertext}</b><br><br>city=%{customdata[0]}<br>state=%{customdata[1]}<extra></extra>",
         "hovertext": [
          "Mister Packaging"
         ],
         "lat": [
          41.5023192
         ],
         "legendgroup": "Mister Packaging",
         "lon": [
          -72.9787163
         ],
         "marker": {
          "color": "#EF553B"
         },
         "mode": "markers",
         "name": "Mister Packaging",
         "showlegend": true,
         "subplot": "mapbox",
         "type": "scattermapbox"
        },
        {
         "cluster": {
          "enabled": true
         },
         "customdata": [
          [
           "Anaheim",
           "CA",
           "ThermaFoam",
           33.8365932,
           -117.9143012
          ]
         ],
         "hovertemplate": "<b>%{hovertext}</b><br><br>city=%{customdata[0]}<br>state=%{customdata[1]}<extra></extra>",
         "hovertext": [
          "ThermaFoam"
         ],
         "lat": [
          33.8365932
         ],
         "legendgroup": "ThermaFoam",
         "lon": [
          -117.9143012
         ],
         "marker": {
          "color": "#00cc96"
         },
         "mode": "markers",
         "name": "ThermaFoam",
         "showlegend": true,
         "subplot": "mapbox",
         "type": "scattermapbox"
        },
        {
         "cluster": {
          "enabled": true
         },
         "customdata": [
          [
           "Hillsboro",
           "TX",
           "Robin II",
           32.0109886,
           -97.1300061
          ]
         ],
         "hovertemplate": "<b>%{hovertext}</b><br><br>city=%{customdata[0]}<br>state=%{customdata[1]}<extra></extra>",
         "hovertext": [
          "Robin II"
         ],
         "lat": [
          32.0109886
         ],
         "legendgroup": "Robin II",
         "lon": [
          -97.1300061
         ],
         "marker": {
          "color": "#ab63fa"
         },
         "mode": "markers",
         "name": "Robin II",
         "showlegend": true,
         "subplot": "mapbox",
         "type": "scattermapbox"
        },
        {
         "cluster": {
          "enabled": true
         },
         "customdata": [
          [
           "Markesan",
           "WI",
           "Foam Pack Industries",
           43.7072047,
           -88.9901122
          ]
         ],
         "hovertemplate": "<b>%{hovertext}</b><br><br>city=%{customdata[0]}<br>state=%{customdata[1]}<extra></extra>",
         "hovertext": [
          "Foam Pack Industries"
         ],
         "lat": [
          43.7072047
         ],
         "legendgroup": "Foam Pack Industries",
         "lon": [
          -88.9901122
         ],
         "marker": {
          "color": "#FFA15A"
         },
         "mode": "markers",
         "name": "Foam Pack Industries",
         "showlegend": true,
         "subplot": "mapbox",
         "type": "scattermapbox"
        },
        {
         "cluster": {
          "enabled": true
         },
         "customdata": [
          [
           "Springfield",
           "NJ",
           "Clyde Tool & Die",
           40.7016937,
           -74.3222146
          ]
         ],
         "hovertemplate": "<b>%{hovertext}</b><br><br>city=%{customdata[0]}<br>state=%{customdata[1]}<extra></extra>",
         "hovertext": [
          "Clyde Tool & Die"
         ],
         "lat": [
          40.7016937
         ],
         "legendgroup": "Clyde Tool & Die",
         "lon": [
          -74.3222146
         ],
         "marker": {
          "color": "#19d3f3"
         },
         "mode": "markers",
         "name": "Clyde Tool & Die",
         "showlegend": true,
         "subplot": "mapbox",
         "type": "scattermapbox"
        },
        {
         "cluster": {
          "enabled": true
         },
         "customdata": [
          [
           "Clyde",
           "OH",
           "DiversiFoam Products",
           41.30422009999999,
           -82.975192
          ]
         ],
         "hovertemplate": "<b>%{hovertext}</b><br><br>city=%{customdata[0]}<br>state=%{customdata[1]}<extra></extra>",
         "hovertext": [
          "DiversiFoam Products"
         ],
         "lat": [
          41.30422009999999
         ],
         "legendgroup": "DiversiFoam Products",
         "lon": [
          -82.975192
         ],
         "marker": {
          "color": "#FF6692"
         },
         "mode": "markers",
         "name": "DiversiFoam Products",
         "showlegend": true,
         "subplot": "mapbox",
         "type": "scattermapbox"
        },
        {
         "cluster": {
          "enabled": true
         },
         "customdata": [
          [
           "Rockford",
           "MN",
           "Beaver Plastics",
           45.0872861,
           -93.7415093
          ]
         ],
         "hovertemplate": "<b>%{hovertext}</b><br><br>city=%{customdata[0]}<br>state=%{customdata[1]}<extra></extra>",
         "hovertext": [
          "Beaver Plastics"
         ],
         "lat": [
          45.0872861
         ],
         "legendgroup": "Beaver Plastics",
         "lon": [
          -93.7415093
         ],
         "marker": {
          "color": "#B6E880"
         },
         "mode": "markers",
         "name": "Beaver Plastics",
         "showlegend": true,
         "subplot": "mapbox",
         "type": "scattermapbox"
        },
        {
         "cluster": {
          "enabled": true
         },
         "customdata": [
          [
           "Watertown",
           "SD",
           "Aqua-Pak Industries Ltd",
           44.8994088,
           -97.1150732
          ]
         ],
         "hovertemplate": "<b>%{hovertext}</b><br><br>city=%{customdata[0]}<br>state=%{customdata[1]}<extra></extra>",
         "hovertext": [
          "Aqua-Pak Industries Ltd"
         ],
         "lat": [
          44.8994088
         ],
         "legendgroup": "Aqua-Pak Industries Ltd",
         "lon": [
          -97.1150732
         ],
         "marker": {
          "color": "#FF97FF"
         },
         "mode": "markers",
         "name": "Aqua-Pak Industries Ltd",
         "showlegend": true,
         "subplot": "mapbox",
         "type": "scattermapbox"
        },
        {
         "cluster": {
          "enabled": true
         },
         "customdata": [
          [
           "Shelbyville",
           "KY",
           "Creative Packaging",
           38.2120144,
           -85.2235666
          ],
          [
           "Vineland",
           "NJ",
           "Creative Packaging",
           39.4863773,
           -75.02596369999999
          ],
          [
           "Unadilla",
           "GA",
           "Creative Packaging",
           32.2617127,
           -83.7365798
          ],
          [
           "Chicago",
           "IL",
           "Creative Packaging",
           41.8781136,
           -87.6297982
          ],
          [
           "Ft. Worth",
           "TX",
           "Creative Packaging",
           32.7554883,
           -97.3307658
          ]
         ],
         "hovertemplate": "<b>%{hovertext}</b><br><br>city=%{customdata[0]}<br>state=%{customdata[1]}<extra></extra>",
         "hovertext": [
          "Creative Packaging",
          "Creative Packaging",
          "Creative Packaging",
          "Creative Packaging",
          "Creative Packaging"
         ],
         "lat": [
          38.2120144,
          39.4863773,
          32.2617127,
          41.8781136,
          32.7554883
         ],
         "legendgroup": "Creative Packaging",
         "lon": [
          -85.2235666,
          -75.02596369999999,
          -83.7365798,
          -87.6297982,
          -97.3307658
         ],
         "marker": {
          "color": "#FECB52"
         },
         "mode": "markers",
         "name": "Creative Packaging",
         "showlegend": true,
         "subplot": "mapbox",
         "type": "scattermapbox"
        },
        {
         "cluster": {
          "enabled": true
         },
         "customdata": [
          [
           "Phoenix",
           "AZ",
           "Custom Pack",
           33.4483771,
           -112.0740373
          ]
         ],
         "hovertemplate": "<b>%{hovertext}</b><br><br>city=%{customdata[0]}<br>state=%{customdata[1]}<extra></extra>",
         "hovertext": [
          "Custom Pack"
         ],
         "lat": [
          33.4483771
         ],
         "legendgroup": "Custom Pack",
         "lon": [
          -112.0740373
         ],
         "marker": {
          "color": "#636efa"
         },
         "mode": "markers",
         "name": "Custom Pack",
         "showlegend": true,
         "subplot": "mapbox",
         "type": "scattermapbox"
        },
        {
         "cluster": {
          "enabled": true
         },
         "customdata": [
          [
           "Eaton",
           "PA",
           "Insulated Products Corp (IPC)",
           41.5114731,
           -75.96954649999999
          ]
         ],
         "hovertemplate": "<b>%{hovertext}</b><br><br>city=%{customdata[0]}<br>state=%{customdata[1]}<extra></extra>",
         "hovertext": [
          "Insulated Products Corp (IPC)"
         ],
         "lat": [
          41.5114731
         ],
         "legendgroup": "Insulated Products Corp (IPC)",
         "lon": [
          -75.96954649999999
         ],
         "marker": {
          "color": "#EF553B"
         },
         "mode": "markers",
         "name": "Insulated Products Corp (IPC)",
         "showlegend": true,
         "subplot": "mapbox",
         "type": "scattermapbox"
        },
        {
         "cluster": {
          "enabled": true
         },
         "customdata": [
          [
           "Los Angeles",
           "CA",
           "Magna LoBoy",
           34.0549076,
           -118.242643
          ]
         ],
         "hovertemplate": "<b>%{hovertext}</b><br><br>city=%{customdata[0]}<br>state=%{customdata[1]}<extra></extra>",
         "hovertext": [
          "Magna LoBoy"
         ],
         "lat": [
          34.0549076
         ],
         "legendgroup": "Magna LoBoy",
         "lon": [
          -118.242643
         ],
         "marker": {
          "color": "#00cc96"
         },
         "mode": "markers",
         "name": "Magna LoBoy",
         "showlegend": true,
         "subplot": "mapbox",
         "type": "scattermapbox"
        },
        {
         "cluster": {
          "enabled": true
         },
         "customdata": [
          [
           "Fort Walton",
           "FL",
           "Speedling",
           30.42007079999999,
           -86.6170308
          ]
         ],
         "hovertemplate": "<b>%{hovertext}</b><br><br>city=%{customdata[0]}<br>state=%{customdata[1]}<extra></extra>",
         "hovertext": [
          "Speedling"
         ],
         "lat": [
          30.42007079999999
         ],
         "legendgroup": "Speedling",
         "lon": [
          -86.6170308
         ],
         "marker": {
          "color": "#ab63fa"
         },
         "mode": "markers",
         "name": "Speedling",
         "showlegend": true,
         "subplot": "mapbox",
         "type": "scattermapbox"
        },
        {
         "cluster": {
          "enabled": true
         },
         "customdata": [
          [
           "Sun City",
           "FL",
           "Insulfoam LLC",
           27.678254,
           -82.4787384
          ],
          [
           "Tacoma",
           "WA",
           "Insulfoam LLC",
           47.2528768,
           -122.4442906
          ],
          [
           "Anchorage",
           "AK",
           "Insulfoam LLC",
           61.2175758,
           -149.8996785
          ],
          [
           "Kent",
           "WA",
           "Insulfoam LLC",
           47.3830671,
           -122.234771
          ],
          [
           "Dixon",
           "CA",
           "Insulfoam LLC",
           38.4454641,
           -121.8232958
          ],
          [
           "Chino",
           "CA",
           "Insulfoam LLC",
           34.0122346,
           -117.688944
          ],
          [
           "Salt Lake City",
           "UT",
           "Insulfoam LLC",
           40.7607793,
           -111.8910474
          ],
          [
           "Phoenix",
           "AZ",
           "Insulfoam LLC",
           33.4483771,
           -112.0740373
          ],
          [
           "Aurora",
           "CO",
           "Insulfoam LLC",
           39.7294319,
           -104.8319195
          ],
          [
           "Mead",
           "NE",
           "Insulfoam LLC",
           41.2286493,
           -96.489212
          ],
          [
           "Lakeland",
           "FL",
           "Insulfoam LLC",
           28.0394654,
           -81.9498042
          ]
         ],
         "hovertemplate": "<b>%{hovertext}</b><br><br>city=%{customdata[0]}<br>state=%{customdata[1]}<extra></extra>",
         "hovertext": [
          "Insulfoam LLC",
          "Insulfoam LLC",
          "Insulfoam LLC",
          "Insulfoam LLC",
          "Insulfoam LLC",
          "Insulfoam LLC",
          "Insulfoam LLC",
          "Insulfoam LLC",
          "Insulfoam LLC",
          "Insulfoam LLC",
          "Insulfoam LLC"
         ],
         "lat": [
          27.678254,
          47.2528768,
          61.2175758,
          47.3830671,
          38.4454641,
          34.0122346,
          40.7607793,
          33.4483771,
          39.7294319,
          41.2286493,
          28.0394654
         ],
         "legendgroup": "Insulfoam LLC",
         "lon": [
          -82.4787384,
          -122.4442906,
          -149.8996785,
          -122.234771,
          -121.8232958,
          -117.688944,
          -111.8910474,
          -112.0740373,
          -104.8319195,
          -96.489212,
          -81.9498042
         ],
         "marker": {
          "color": "#FFA15A"
         },
         "mode": "markers",
         "name": "Insulfoam LLC",
         "showlegend": true,
         "subplot": "mapbox",
         "type": "scattermapbox"
        },
        {
         "cluster": {
          "enabled": true
         },
         "customdata": [
          [
           "Buffalo",
           "NY",
           "Armstrong Brands",
           42.88644679999999,
           -78.8783689
          ]
         ],
         "hovertemplate": "<b>%{hovertext}</b><br><br>city=%{customdata[0]}<br>state=%{customdata[1]}<extra></extra>",
         "hovertext": [
          "Armstrong Brands"
         ],
         "lat": [
          42.88644679999999
         ],
         "legendgroup": "Armstrong Brands",
         "lon": [
          -78.8783689
         ],
         "marker": {
          "color": "#19d3f3"
         },
         "mode": "markers",
         "name": "Armstrong Brands",
         "showlegend": true,
         "subplot": "mapbox",
         "type": "scattermapbox"
        }
       ],
       "layout": {
        "legend": {
         "title": {
          "text": "Our Top Competitors"
         },
         "tracegroupgap": 0
        },
        "mapbox": {
         "center": {
          "lat": 37.83123081086956,
          "lon": -94.66520300652174
         },
         "domain": {
          "x": [
           0,
           1
          ],
          "y": [
           0,
           1
          ]
         },
         "style": "open-street-map",
         "zoom": 4
        },
        "margin": {
         "b": 2,
         "l": 2,
         "r": 2,
         "t": 2
        },
        "template": {
         "data": {
          "bar": [
           {
            "error_x": {
             "color": "#2a3f5f"
            },
            "error_y": {
             "color": "#2a3f5f"
            },
            "marker": {
             "line": {
              "color": "#E5ECF6",
              "width": 0.5
             },
             "pattern": {
              "fillmode": "overlay",
              "size": 10,
              "solidity": 0.2
             }
            },
            "type": "bar"
           }
          ],
          "barpolar": [
           {
            "marker": {
             "line": {
              "color": "#E5ECF6",
              "width": 0.5
             },
             "pattern": {
              "fillmode": "overlay",
              "size": 10,
              "solidity": 0.2
             }
            },
            "type": "barpolar"
           }
          ],
          "carpet": [
           {
            "aaxis": {
             "endlinecolor": "#2a3f5f",
             "gridcolor": "white",
             "linecolor": "white",
             "minorgridcolor": "white",
             "startlinecolor": "#2a3f5f"
            },
            "baxis": {
             "endlinecolor": "#2a3f5f",
             "gridcolor": "white",
             "linecolor": "white",
             "minorgridcolor": "white",
             "startlinecolor": "#2a3f5f"
            },
            "type": "carpet"
           }
          ],
          "choropleth": [
           {
            "colorbar": {
             "outlinewidth": 0,
             "ticks": ""
            },
            "type": "choropleth"
           }
          ],
          "contour": [
           {
            "colorbar": {
             "outlinewidth": 0,
             "ticks": ""
            },
            "colorscale": [
             [
              0,
              "#0d0887"
             ],
             [
              0.1111111111111111,
              "#46039f"
             ],
             [
              0.2222222222222222,
              "#7201a8"
             ],
             [
              0.3333333333333333,
              "#9c179e"
             ],
             [
              0.4444444444444444,
              "#bd3786"
             ],
             [
              0.5555555555555556,
              "#d8576b"
             ],
             [
              0.6666666666666666,
              "#ed7953"
             ],
             [
              0.7777777777777778,
              "#fb9f3a"
             ],
             [
              0.8888888888888888,
              "#fdca26"
             ],
             [
              1,
              "#f0f921"
             ]
            ],
            "type": "contour"
           }
          ],
          "contourcarpet": [
           {
            "colorbar": {
             "outlinewidth": 0,
             "ticks": ""
            },
            "type": "contourcarpet"
           }
          ],
          "heatmap": [
           {
            "colorbar": {
             "outlinewidth": 0,
             "ticks": ""
            },
            "colorscale": [
             [
              0,
              "#0d0887"
             ],
             [
              0.1111111111111111,
              "#46039f"
             ],
             [
              0.2222222222222222,
              "#7201a8"
             ],
             [
              0.3333333333333333,
              "#9c179e"
             ],
             [
              0.4444444444444444,
              "#bd3786"
             ],
             [
              0.5555555555555556,
              "#d8576b"
             ],
             [
              0.6666666666666666,
              "#ed7953"
             ],
             [
              0.7777777777777778,
              "#fb9f3a"
             ],
             [
              0.8888888888888888,
              "#fdca26"
             ],
             [
              1,
              "#f0f921"
             ]
            ],
            "type": "heatmap"
           }
          ],
          "heatmapgl": [
           {
            "colorbar": {
             "outlinewidth": 0,
             "ticks": ""
            },
            "colorscale": [
             [
              0,
              "#0d0887"
             ],
             [
              0.1111111111111111,
              "#46039f"
             ],
             [
              0.2222222222222222,
              "#7201a8"
             ],
             [
              0.3333333333333333,
              "#9c179e"
             ],
             [
              0.4444444444444444,
              "#bd3786"
             ],
             [
              0.5555555555555556,
              "#d8576b"
             ],
             [
              0.6666666666666666,
              "#ed7953"
             ],
             [
              0.7777777777777778,
              "#fb9f3a"
             ],
             [
              0.8888888888888888,
              "#fdca26"
             ],
             [
              1,
              "#f0f921"
             ]
            ],
            "type": "heatmapgl"
           }
          ],
          "histogram": [
           {
            "marker": {
             "pattern": {
              "fillmode": "overlay",
              "size": 10,
              "solidity": 0.2
             }
            },
            "type": "histogram"
           }
          ],
          "histogram2d": [
           {
            "colorbar": {
             "outlinewidth": 0,
             "ticks": ""
            },
            "colorscale": [
             [
              0,
              "#0d0887"
             ],
             [
              0.1111111111111111,
              "#46039f"
             ],
             [
              0.2222222222222222,
              "#7201a8"
             ],
             [
              0.3333333333333333,
              "#9c179e"
             ],
             [
              0.4444444444444444,
              "#bd3786"
             ],
             [
              0.5555555555555556,
              "#d8576b"
             ],
             [
              0.6666666666666666,
              "#ed7953"
             ],
             [
              0.7777777777777778,
              "#fb9f3a"
             ],
             [
              0.8888888888888888,
              "#fdca26"
             ],
             [
              1,
              "#f0f921"
             ]
            ],
            "type": "histogram2d"
           }
          ],
          "histogram2dcontour": [
           {
            "colorbar": {
             "outlinewidth": 0,
             "ticks": ""
            },
            "colorscale": [
             [
              0,
              "#0d0887"
             ],
             [
              0.1111111111111111,
              "#46039f"
             ],
             [
              0.2222222222222222,
              "#7201a8"
             ],
             [
              0.3333333333333333,
              "#9c179e"
             ],
             [
              0.4444444444444444,
              "#bd3786"
             ],
             [
              0.5555555555555556,
              "#d8576b"
             ],
             [
              0.6666666666666666,
              "#ed7953"
             ],
             [
              0.7777777777777778,
              "#fb9f3a"
             ],
             [
              0.8888888888888888,
              "#fdca26"
             ],
             [
              1,
              "#f0f921"
             ]
            ],
            "type": "histogram2dcontour"
           }
          ],
          "mesh3d": [
           {
            "colorbar": {
             "outlinewidth": 0,
             "ticks": ""
            },
            "type": "mesh3d"
           }
          ],
          "parcoords": [
           {
            "line": {
             "colorbar": {
              "outlinewidth": 0,
              "ticks": ""
             }
            },
            "type": "parcoords"
           }
          ],
          "pie": [
           {
            "automargin": true,
            "type": "pie"
           }
          ],
          "scatter": [
           {
            "fillpattern": {
             "fillmode": "overlay",
             "size": 10,
             "solidity": 0.2
            },
            "type": "scatter"
           }
          ],
          "scatter3d": [
           {
            "line": {
             "colorbar": {
              "outlinewidth": 0,
              "ticks": ""
             }
            },
            "marker": {
             "colorbar": {
              "outlinewidth": 0,
              "ticks": ""
             }
            },
            "type": "scatter3d"
           }
          ],
          "scattercarpet": [
           {
            "marker": {
             "colorbar": {
              "outlinewidth": 0,
              "ticks": ""
             }
            },
            "type": "scattercarpet"
           }
          ],
          "scattergeo": [
           {
            "marker": {
             "colorbar": {
              "outlinewidth": 0,
              "ticks": ""
             }
            },
            "type": "scattergeo"
           }
          ],
          "scattergl": [
           {
            "marker": {
             "colorbar": {
              "outlinewidth": 0,
              "ticks": ""
             }
            },
            "type": "scattergl"
           }
          ],
          "scattermapbox": [
           {
            "marker": {
             "colorbar": {
              "outlinewidth": 0,
              "ticks": ""
             }
            },
            "type": "scattermapbox"
           }
          ],
          "scatterpolar": [
           {
            "marker": {
             "colorbar": {
              "outlinewidth": 0,
              "ticks": ""
             }
            },
            "type": "scatterpolar"
           }
          ],
          "scatterpolargl": [
           {
            "marker": {
             "colorbar": {
              "outlinewidth": 0,
              "ticks": ""
             }
            },
            "type": "scatterpolargl"
           }
          ],
          "scatterternary": [
           {
            "marker": {
             "colorbar": {
              "outlinewidth": 0,
              "ticks": ""
             }
            },
            "type": "scatterternary"
           }
          ],
          "surface": [
           {
            "colorbar": {
             "outlinewidth": 0,
             "ticks": ""
            },
            "colorscale": [
             [
              0,
              "#0d0887"
             ],
             [
              0.1111111111111111,
              "#46039f"
             ],
             [
              0.2222222222222222,
              "#7201a8"
             ],
             [
              0.3333333333333333,
              "#9c179e"
             ],
             [
              0.4444444444444444,
              "#bd3786"
             ],
             [
              0.5555555555555556,
              "#d8576b"
             ],
             [
              0.6666666666666666,
              "#ed7953"
             ],
             [
              0.7777777777777778,
              "#fb9f3a"
             ],
             [
              0.8888888888888888,
              "#fdca26"
             ],
             [
              1,
              "#f0f921"
             ]
            ],
            "type": "surface"
           }
          ],
          "table": [
           {
            "cells": {
             "fill": {
              "color": "#EBF0F8"
             },
             "line": {
              "color": "white"
             }
            },
            "header": {
             "fill": {
              "color": "#C8D4E3"
             },
             "line": {
              "color": "white"
             }
            },
            "type": "table"
           }
          ]
         },
         "layout": {
          "annotationdefaults": {
           "arrowcolor": "#2a3f5f",
           "arrowhead": 0,
           "arrowwidth": 1
          },
          "autotypenumbers": "strict",
          "coloraxis": {
           "colorbar": {
            "outlinewidth": 0,
            "ticks": ""
           }
          },
          "colorscale": {
           "diverging": [
            [
             0,
             "#8e0152"
            ],
            [
             0.1,
             "#c51b7d"
            ],
            [
             0.2,
             "#de77ae"
            ],
            [
             0.3,
             "#f1b6da"
            ],
            [
             0.4,
             "#fde0ef"
            ],
            [
             0.5,
             "#f7f7f7"
            ],
            [
             0.6,
             "#e6f5d0"
            ],
            [
             0.7,
             "#b8e186"
            ],
            [
             0.8,
             "#7fbc41"
            ],
            [
             0.9,
             "#4d9221"
            ],
            [
             1,
             "#276419"
            ]
           ],
           "sequential": [
            [
             0,
             "#0d0887"
            ],
            [
             0.1111111111111111,
             "#46039f"
            ],
            [
             0.2222222222222222,
             "#7201a8"
            ],
            [
             0.3333333333333333,
             "#9c179e"
            ],
            [
             0.4444444444444444,
             "#bd3786"
            ],
            [
             0.5555555555555556,
             "#d8576b"
            ],
            [
             0.6666666666666666,
             "#ed7953"
            ],
            [
             0.7777777777777778,
             "#fb9f3a"
            ],
            [
             0.8888888888888888,
             "#fdca26"
            ],
            [
             1,
             "#f0f921"
            ]
           ],
           "sequentialminus": [
            [
             0,
             "#0d0887"
            ],
            [
             0.1111111111111111,
             "#46039f"
            ],
            [
             0.2222222222222222,
             "#7201a8"
            ],
            [
             0.3333333333333333,
             "#9c179e"
            ],
            [
             0.4444444444444444,
             "#bd3786"
            ],
            [
             0.5555555555555556,
             "#d8576b"
            ],
            [
             0.6666666666666666,
             "#ed7953"
            ],
            [
             0.7777777777777778,
             "#fb9f3a"
            ],
            [
             0.8888888888888888,
             "#fdca26"
            ],
            [
             1,
             "#f0f921"
            ]
           ]
          },
          "colorway": [
           "#636efa",
           "#EF553B",
           "#00cc96",
           "#ab63fa",
           "#FFA15A",
           "#19d3f3",
           "#FF6692",
           "#B6E880",
           "#FF97FF",
           "#FECB52"
          ],
          "font": {
           "color": "#2a3f5f"
          },
          "geo": {
           "bgcolor": "white",
           "lakecolor": "white",
           "landcolor": "#E5ECF6",
           "showlakes": true,
           "showland": true,
           "subunitcolor": "white"
          },
          "hoverlabel": {
           "align": "left"
          },
          "hovermode": "closest",
          "mapbox": {
           "style": "light"
          },
          "paper_bgcolor": "white",
          "plot_bgcolor": "#E5ECF6",
          "polar": {
           "angularaxis": {
            "gridcolor": "white",
            "linecolor": "white",
            "ticks": ""
           },
           "bgcolor": "#E5ECF6",
           "radialaxis": {
            "gridcolor": "white",
            "linecolor": "white",
            "ticks": ""
           }
          },
          "scene": {
           "xaxis": {
            "backgroundcolor": "#E5ECF6",
            "gridcolor": "white",
            "gridwidth": 2,
            "linecolor": "white",
            "showbackground": true,
            "ticks": "",
            "zerolinecolor": "white"
           },
           "yaxis": {
            "backgroundcolor": "#E5ECF6",
            "gridcolor": "white",
            "gridwidth": 2,
            "linecolor": "white",
            "showbackground": true,
            "ticks": "",
            "zerolinecolor": "white"
           },
           "zaxis": {
            "backgroundcolor": "#E5ECF6",
            "gridcolor": "white",
            "gridwidth": 2,
            "linecolor": "white",
            "showbackground": true,
            "ticks": "",
            "zerolinecolor": "white"
           }
          },
          "shapedefaults": {
           "line": {
            "color": "#2a3f5f"
           }
          },
          "ternary": {
           "aaxis": {
            "gridcolor": "white",
            "linecolor": "white",
            "ticks": ""
           },
           "baxis": {
            "gridcolor": "white",
            "linecolor": "white",
            "ticks": ""
           },
           "bgcolor": "#E5ECF6",
           "caxis": {
            "gridcolor": "white",
            "linecolor": "white",
            "ticks": ""
           }
          },
          "title": {
           "x": 0.05
          },
          "xaxis": {
           "automargin": true,
           "gridcolor": "white",
           "linecolor": "white",
           "ticks": "",
           "title": {
            "standoff": 15
           },
           "zerolinecolor": "white",
           "zerolinewidth": 2
          },
          "yaxis": {
           "automargin": true,
           "gridcolor": "white",
           "linecolor": "white",
           "ticks": "",
           "title": {
            "standoff": 15
           },
           "zerolinecolor": "white",
           "zerolinewidth": 2
          }
         }
        }
       }
      }
     },
     "metadata": {},
     "output_type": "display_data"
    }
   ],
   "source": [
    "fig = px.scatter_mapbox(\n",
    "    data_frame=companies_df,\n",
    "    lat=\"latitude\", lon=\"longitude\",\n",
    "    # title=\"Locations of our Competitor's Warehouses\",\n",
    "    color=\"top_competitors\",\n",
    "    hover_name=\"top_competitors\",\n",
    "    hover_data={\n",
    "        \"city\": True,\n",
    "        \"state\": True,\n",
    "        \"top_competitors\": False,\n",
    "        \"latitude\": False,\n",
    "        \"longitude\": False\n",
    "    },\n",
    "    labels={\"top_competitors\": \"Our Top Competitors\"}\n",
    ")\n",
    "\n",
    "fig.update_layout(mapbox_style=\"open-street-map\", mapbox_zoom=4,\n",
    "    margin={\"r\":2,\"t\":2,\"l\":2,\"b\":2}) \n",
    "\n",
    "fig.update_traces(cluster=dict(enabled=True))\n",
    "fig"
   ]
  },
  {
   "cell_type": "code",
   "execution_count": 14,
   "metadata": {},
   "outputs": [],
   "source": [
    "fig.write_html(\"scatter_map.html\")"
   ]
  },
  {
   "cell_type": "markdown",
   "metadata": {},
   "source": [
    "### View by Company Scatter Plot"
   ]
  },
  {
   "cell_type": "code",
   "execution_count": 12,
   "metadata": {},
   "outputs": [
    {
     "data": {
      "application/vnd.plotly.v1+json": {
       "config": {
        "plotlyServerURL": "https://plot.ly"
       },
       "data": [
        {
         "cluster": {
          "enabled": true
         },
         "customdata": [
          [
           "Grove City",
           "OH",
           "Alleguard - Huntington",
           39.8821935,
           -83.0935377
          ],
          [
           "Bastrop",
           "TX",
           "Alleguard - Huntington",
           30.1104947,
           -97.3152701
          ],
          [
           "Cave Spring ",
           "GA",
           "Alleguard - Huntington",
           34.1075975,
           -85.33634339999999
          ],
          [
           "Greer",
           "SC",
           "Alleguard - Huntington",
           34.9387279,
           -82.2270568
          ],
          [
           "Greenville",
           "MI",
           "Alleguard - Huntington",
           43.1775314,
           -85.2527987
          ],
          [
           "Radford",
           "VA",
           "Alleguard - Huntington",
           37.13179239999999,
           -80.5764477
          ],
          [
           "West Brookfield",
           "MA",
           "Alleguard - Huntington",
           42.2353463,
           -72.14116419999999
          ],
          [
           "Monticello",
           "AR",
           "Alleguard - Huntington",
           33.6296702,
           -91.8021856
          ]
         ],
         "hovertemplate": "<b>%{hovertext}</b><br><br>city=%{customdata[0]}<br>state=%{customdata[1]}<extra></extra>",
         "hovertext": [
          "Alleguard - Huntington",
          "Alleguard - Huntington",
          "Alleguard - Huntington",
          "Alleguard - Huntington",
          "Alleguard - Huntington",
          "Alleguard - Huntington",
          "Alleguard - Huntington",
          "Alleguard - Huntington"
         ],
         "lat": [
          39.8821935,
          30.1104947,
          34.1075975,
          34.9387279,
          43.1775314,
          37.13179239999999,
          42.2353463,
          33.6296702
         ],
         "legendgroup": "Alleguard - Huntington",
         "lon": [
          -83.0935377,
          -97.3152701,
          -85.33634339999999,
          -82.2270568,
          -85.2527987,
          -80.5764477,
          -72.14116419999999,
          -91.8021856
         ],
         "marker": {
          "color": "#636efa"
         },
         "mode": "markers",
         "name": "Alleguard - Huntington",
         "showlegend": true,
         "subplot": "mapbox",
         "type": "scattermapbox"
        }
       ],
       "layout": {
        "legend": {
         "title": {
          "text": "Our Top Competitors"
         },
         "tracegroupgap": 0
        },
        "mapbox": {
         "center": {
          "lat": 36.9016692375,
          "lon": -84.718100525
         },
         "domain": {
          "x": [
           0,
           1
          ],
          "y": [
           0,
           1
          ]
         },
         "style": "open-street-map",
         "zoom": 4
        },
        "margin": {
         "b": 2,
         "l": 2,
         "r": 2,
         "t": 2
        },
        "template": {
         "data": {
          "bar": [
           {
            "error_x": {
             "color": "#2a3f5f"
            },
            "error_y": {
             "color": "#2a3f5f"
            },
            "marker": {
             "line": {
              "color": "#E5ECF6",
              "width": 0.5
             },
             "pattern": {
              "fillmode": "overlay",
              "size": 10,
              "solidity": 0.2
             }
            },
            "type": "bar"
           }
          ],
          "barpolar": [
           {
            "marker": {
             "line": {
              "color": "#E5ECF6",
              "width": 0.5
             },
             "pattern": {
              "fillmode": "overlay",
              "size": 10,
              "solidity": 0.2
             }
            },
            "type": "barpolar"
           }
          ],
          "carpet": [
           {
            "aaxis": {
             "endlinecolor": "#2a3f5f",
             "gridcolor": "white",
             "linecolor": "white",
             "minorgridcolor": "white",
             "startlinecolor": "#2a3f5f"
            },
            "baxis": {
             "endlinecolor": "#2a3f5f",
             "gridcolor": "white",
             "linecolor": "white",
             "minorgridcolor": "white",
             "startlinecolor": "#2a3f5f"
            },
            "type": "carpet"
           }
          ],
          "choropleth": [
           {
            "colorbar": {
             "outlinewidth": 0,
             "ticks": ""
            },
            "type": "choropleth"
           }
          ],
          "contour": [
           {
            "colorbar": {
             "outlinewidth": 0,
             "ticks": ""
            },
            "colorscale": [
             [
              0,
              "#0d0887"
             ],
             [
              0.1111111111111111,
              "#46039f"
             ],
             [
              0.2222222222222222,
              "#7201a8"
             ],
             [
              0.3333333333333333,
              "#9c179e"
             ],
             [
              0.4444444444444444,
              "#bd3786"
             ],
             [
              0.5555555555555556,
              "#d8576b"
             ],
             [
              0.6666666666666666,
              "#ed7953"
             ],
             [
              0.7777777777777778,
              "#fb9f3a"
             ],
             [
              0.8888888888888888,
              "#fdca26"
             ],
             [
              1,
              "#f0f921"
             ]
            ],
            "type": "contour"
           }
          ],
          "contourcarpet": [
           {
            "colorbar": {
             "outlinewidth": 0,
             "ticks": ""
            },
            "type": "contourcarpet"
           }
          ],
          "heatmap": [
           {
            "colorbar": {
             "outlinewidth": 0,
             "ticks": ""
            },
            "colorscale": [
             [
              0,
              "#0d0887"
             ],
             [
              0.1111111111111111,
              "#46039f"
             ],
             [
              0.2222222222222222,
              "#7201a8"
             ],
             [
              0.3333333333333333,
              "#9c179e"
             ],
             [
              0.4444444444444444,
              "#bd3786"
             ],
             [
              0.5555555555555556,
              "#d8576b"
             ],
             [
              0.6666666666666666,
              "#ed7953"
             ],
             [
              0.7777777777777778,
              "#fb9f3a"
             ],
             [
              0.8888888888888888,
              "#fdca26"
             ],
             [
              1,
              "#f0f921"
             ]
            ],
            "type": "heatmap"
           }
          ],
          "heatmapgl": [
           {
            "colorbar": {
             "outlinewidth": 0,
             "ticks": ""
            },
            "colorscale": [
             [
              0,
              "#0d0887"
             ],
             [
              0.1111111111111111,
              "#46039f"
             ],
             [
              0.2222222222222222,
              "#7201a8"
             ],
             [
              0.3333333333333333,
              "#9c179e"
             ],
             [
              0.4444444444444444,
              "#bd3786"
             ],
             [
              0.5555555555555556,
              "#d8576b"
             ],
             [
              0.6666666666666666,
              "#ed7953"
             ],
             [
              0.7777777777777778,
              "#fb9f3a"
             ],
             [
              0.8888888888888888,
              "#fdca26"
             ],
             [
              1,
              "#f0f921"
             ]
            ],
            "type": "heatmapgl"
           }
          ],
          "histogram": [
           {
            "marker": {
             "pattern": {
              "fillmode": "overlay",
              "size": 10,
              "solidity": 0.2
             }
            },
            "type": "histogram"
           }
          ],
          "histogram2d": [
           {
            "colorbar": {
             "outlinewidth": 0,
             "ticks": ""
            },
            "colorscale": [
             [
              0,
              "#0d0887"
             ],
             [
              0.1111111111111111,
              "#46039f"
             ],
             [
              0.2222222222222222,
              "#7201a8"
             ],
             [
              0.3333333333333333,
              "#9c179e"
             ],
             [
              0.4444444444444444,
              "#bd3786"
             ],
             [
              0.5555555555555556,
              "#d8576b"
             ],
             [
              0.6666666666666666,
              "#ed7953"
             ],
             [
              0.7777777777777778,
              "#fb9f3a"
             ],
             [
              0.8888888888888888,
              "#fdca26"
             ],
             [
              1,
              "#f0f921"
             ]
            ],
            "type": "histogram2d"
           }
          ],
          "histogram2dcontour": [
           {
            "colorbar": {
             "outlinewidth": 0,
             "ticks": ""
            },
            "colorscale": [
             [
              0,
              "#0d0887"
             ],
             [
              0.1111111111111111,
              "#46039f"
             ],
             [
              0.2222222222222222,
              "#7201a8"
             ],
             [
              0.3333333333333333,
              "#9c179e"
             ],
             [
              0.4444444444444444,
              "#bd3786"
             ],
             [
              0.5555555555555556,
              "#d8576b"
             ],
             [
              0.6666666666666666,
              "#ed7953"
             ],
             [
              0.7777777777777778,
              "#fb9f3a"
             ],
             [
              0.8888888888888888,
              "#fdca26"
             ],
             [
              1,
              "#f0f921"
             ]
            ],
            "type": "histogram2dcontour"
           }
          ],
          "mesh3d": [
           {
            "colorbar": {
             "outlinewidth": 0,
             "ticks": ""
            },
            "type": "mesh3d"
           }
          ],
          "parcoords": [
           {
            "line": {
             "colorbar": {
              "outlinewidth": 0,
              "ticks": ""
             }
            },
            "type": "parcoords"
           }
          ],
          "pie": [
           {
            "automargin": true,
            "type": "pie"
           }
          ],
          "scatter": [
           {
            "fillpattern": {
             "fillmode": "overlay",
             "size": 10,
             "solidity": 0.2
            },
            "type": "scatter"
           }
          ],
          "scatter3d": [
           {
            "line": {
             "colorbar": {
              "outlinewidth": 0,
              "ticks": ""
             }
            },
            "marker": {
             "colorbar": {
              "outlinewidth": 0,
              "ticks": ""
             }
            },
            "type": "scatter3d"
           }
          ],
          "scattercarpet": [
           {
            "marker": {
             "colorbar": {
              "outlinewidth": 0,
              "ticks": ""
             }
            },
            "type": "scattercarpet"
           }
          ],
          "scattergeo": [
           {
            "marker": {
             "colorbar": {
              "outlinewidth": 0,
              "ticks": ""
             }
            },
            "type": "scattergeo"
           }
          ],
          "scattergl": [
           {
            "marker": {
             "colorbar": {
              "outlinewidth": 0,
              "ticks": ""
             }
            },
            "type": "scattergl"
           }
          ],
          "scattermapbox": [
           {
            "marker": {
             "colorbar": {
              "outlinewidth": 0,
              "ticks": ""
             }
            },
            "type": "scattermapbox"
           }
          ],
          "scatterpolar": [
           {
            "marker": {
             "colorbar": {
              "outlinewidth": 0,
              "ticks": ""
             }
            },
            "type": "scatterpolar"
           }
          ],
          "scatterpolargl": [
           {
            "marker": {
             "colorbar": {
              "outlinewidth": 0,
              "ticks": ""
             }
            },
            "type": "scatterpolargl"
           }
          ],
          "scatterternary": [
           {
            "marker": {
             "colorbar": {
              "outlinewidth": 0,
              "ticks": ""
             }
            },
            "type": "scatterternary"
           }
          ],
          "surface": [
           {
            "colorbar": {
             "outlinewidth": 0,
             "ticks": ""
            },
            "colorscale": [
             [
              0,
              "#0d0887"
             ],
             [
              0.1111111111111111,
              "#46039f"
             ],
             [
              0.2222222222222222,
              "#7201a8"
             ],
             [
              0.3333333333333333,
              "#9c179e"
             ],
             [
              0.4444444444444444,
              "#bd3786"
             ],
             [
              0.5555555555555556,
              "#d8576b"
             ],
             [
              0.6666666666666666,
              "#ed7953"
             ],
             [
              0.7777777777777778,
              "#fb9f3a"
             ],
             [
              0.8888888888888888,
              "#fdca26"
             ],
             [
              1,
              "#f0f921"
             ]
            ],
            "type": "surface"
           }
          ],
          "table": [
           {
            "cells": {
             "fill": {
              "color": "#EBF0F8"
             },
             "line": {
              "color": "white"
             }
            },
            "header": {
             "fill": {
              "color": "#C8D4E3"
             },
             "line": {
              "color": "white"
             }
            },
            "type": "table"
           }
          ]
         },
         "layout": {
          "annotationdefaults": {
           "arrowcolor": "#2a3f5f",
           "arrowhead": 0,
           "arrowwidth": 1
          },
          "autotypenumbers": "strict",
          "coloraxis": {
           "colorbar": {
            "outlinewidth": 0,
            "ticks": ""
           }
          },
          "colorscale": {
           "diverging": [
            [
             0,
             "#8e0152"
            ],
            [
             0.1,
             "#c51b7d"
            ],
            [
             0.2,
             "#de77ae"
            ],
            [
             0.3,
             "#f1b6da"
            ],
            [
             0.4,
             "#fde0ef"
            ],
            [
             0.5,
             "#f7f7f7"
            ],
            [
             0.6,
             "#e6f5d0"
            ],
            [
             0.7,
             "#b8e186"
            ],
            [
             0.8,
             "#7fbc41"
            ],
            [
             0.9,
             "#4d9221"
            ],
            [
             1,
             "#276419"
            ]
           ],
           "sequential": [
            [
             0,
             "#0d0887"
            ],
            [
             0.1111111111111111,
             "#46039f"
            ],
            [
             0.2222222222222222,
             "#7201a8"
            ],
            [
             0.3333333333333333,
             "#9c179e"
            ],
            [
             0.4444444444444444,
             "#bd3786"
            ],
            [
             0.5555555555555556,
             "#d8576b"
            ],
            [
             0.6666666666666666,
             "#ed7953"
            ],
            [
             0.7777777777777778,
             "#fb9f3a"
            ],
            [
             0.8888888888888888,
             "#fdca26"
            ],
            [
             1,
             "#f0f921"
            ]
           ],
           "sequentialminus": [
            [
             0,
             "#0d0887"
            ],
            [
             0.1111111111111111,
             "#46039f"
            ],
            [
             0.2222222222222222,
             "#7201a8"
            ],
            [
             0.3333333333333333,
             "#9c179e"
            ],
            [
             0.4444444444444444,
             "#bd3786"
            ],
            [
             0.5555555555555556,
             "#d8576b"
            ],
            [
             0.6666666666666666,
             "#ed7953"
            ],
            [
             0.7777777777777778,
             "#fb9f3a"
            ],
            [
             0.8888888888888888,
             "#fdca26"
            ],
            [
             1,
             "#f0f921"
            ]
           ]
          },
          "colorway": [
           "#636efa",
           "#EF553B",
           "#00cc96",
           "#ab63fa",
           "#FFA15A",
           "#19d3f3",
           "#FF6692",
           "#B6E880",
           "#FF97FF",
           "#FECB52"
          ],
          "font": {
           "color": "#2a3f5f"
          },
          "geo": {
           "bgcolor": "white",
           "lakecolor": "white",
           "landcolor": "#E5ECF6",
           "showlakes": true,
           "showland": true,
           "subunitcolor": "white"
          },
          "hoverlabel": {
           "align": "left"
          },
          "hovermode": "closest",
          "mapbox": {
           "style": "light"
          },
          "paper_bgcolor": "white",
          "plot_bgcolor": "#E5ECF6",
          "polar": {
           "angularaxis": {
            "gridcolor": "white",
            "linecolor": "white",
            "ticks": ""
           },
           "bgcolor": "#E5ECF6",
           "radialaxis": {
            "gridcolor": "white",
            "linecolor": "white",
            "ticks": ""
           }
          },
          "scene": {
           "xaxis": {
            "backgroundcolor": "#E5ECF6",
            "gridcolor": "white",
            "gridwidth": 2,
            "linecolor": "white",
            "showbackground": true,
            "ticks": "",
            "zerolinecolor": "white"
           },
           "yaxis": {
            "backgroundcolor": "#E5ECF6",
            "gridcolor": "white",
            "gridwidth": 2,
            "linecolor": "white",
            "showbackground": true,
            "ticks": "",
            "zerolinecolor": "white"
           },
           "zaxis": {
            "backgroundcolor": "#E5ECF6",
            "gridcolor": "white",
            "gridwidth": 2,
            "linecolor": "white",
            "showbackground": true,
            "ticks": "",
            "zerolinecolor": "white"
           }
          },
          "shapedefaults": {
           "line": {
            "color": "#2a3f5f"
           }
          },
          "ternary": {
           "aaxis": {
            "gridcolor": "white",
            "linecolor": "white",
            "ticks": ""
           },
           "baxis": {
            "gridcolor": "white",
            "linecolor": "white",
            "ticks": ""
           },
           "bgcolor": "#E5ECF6",
           "caxis": {
            "gridcolor": "white",
            "linecolor": "white",
            "ticks": ""
           }
          },
          "title": {
           "x": 0.05
          },
          "xaxis": {
           "automargin": true,
           "gridcolor": "white",
           "linecolor": "white",
           "ticks": "",
           "title": {
            "standoff": 15
           },
           "zerolinecolor": "white",
           "zerolinewidth": 2
          },
          "yaxis": {
           "automargin": true,
           "gridcolor": "white",
           "linecolor": "white",
           "ticks": "",
           "title": {
            "standoff": 15
           },
           "zerolinecolor": "white",
           "zerolinewidth": 2
          }
         }
        }
       }
      }
     },
     "metadata": {},
     "output_type": "display_data"
    }
   ],
   "source": [
    "fig = px.scatter_mapbox(\n",
    "    data_frame=companies_df.query(f\"top_competitors == 'Alleguard - Huntington'\"),\n",
    "    lat=\"latitude\", lon=\"longitude\",\n",
    "    # title=\"Locations of our Competitor's Warehouses\",\n",
    "    color=\"top_competitors\",\n",
    "    hover_name=\"top_competitors\",\n",
    "    hover_data={\n",
    "        \"city\": True,\n",
    "        \"state\": True,\n",
    "        \"top_competitors\": False,\n",
    "        \"latitude\": False,\n",
    "        \"longitude\": False\n",
    "    },\n",
    "    labels={\"top_competitors\": \"Our Top Competitors\"}\n",
    ")\n",
    "\n",
    "fig.update_layout(mapbox_style=\"open-street-map\",\n",
    "    margin={\"r\":2,\"t\":2,\"l\":2,\"b\":2}) \n",
    "\n",
    "fig.update_traces(cluster=dict(enabled=True))\n",
    "fig"
   ]
  },
  {
   "cell_type": "code",
   "execution_count": null,
   "metadata": {},
   "outputs": [],
   "source": []
  }
 ],
 "metadata": {
  "kernelspec": {
   "display_name": "Competitor Analysis",
   "language": "python",
   "name": "python3"
  },
  "language_info": {
   "codemirror_mode": {
    "name": "ipython",
    "version": 3
   },
   "file_extension": ".py",
   "mimetype": "text/x-python",
   "name": "python",
   "nbconvert_exporter": "python",
   "pygments_lexer": "ipython3",
   "version": "3.12.4"
  }
 },
 "nbformat": 4,
 "nbformat_minor": 2
}
