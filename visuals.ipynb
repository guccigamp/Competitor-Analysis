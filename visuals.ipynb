{
 "cells": [
  {
   "cell_type": "markdown",
   "metadata": {},
   "source": [
    "# Visuals for the Dash App"
   ]
  },
  {
   "cell_type": "code",
   "execution_count": 2,
   "metadata": {},
   "outputs": [],
   "source": [
    "import plotly.express as px\n",
    "import pandas as pd\n",
    "\n",
    "companies_df = pd.read_csv(\"Comp Analysis- BI Report.csv\")"
   ]
  },
  {
   "cell_type": "markdown",
   "metadata": {},
   "source": [
    "#### List of Companies"
   ]
  },
  {
   "cell_type": "code",
   "execution_count": 3,
   "metadata": {},
   "outputs": [
    {
     "data": {
      "text/plain": [
       "array(['Alleguard - Huntington', 'Cellofoam', 'Modern Polymers', 'EFP',\n",
       "       'Aptco', 'Tempo Precision Molded Foam', 'ACH Foam Technologies',\n",
       "       'Atlas Molded Products', 'Sonoco', 'Cold Keepers', 'Styrotech',\n",
       "       'OpCO', 'Plastillite', 'Houston Foam Plastics',\n",
       "       'Imperial Foam & Insulation', 'Marko Foam', 'Michigan Foam',\n",
       "       'Pal Pac', 'Branch River Plastics', 'FMI-EPS', 'Polar Central',\n",
       "       'Mister Packaging', 'ThermaFoam', 'Robin II',\n",
       "       'Foam Pack Industries', 'Clyde Tool & Die', 'DiversiFoam Products',\n",
       "       'Beaver Plastics', 'Aqua-Pak Industries Ltd', 'Creative Packaging',\n",
       "       'Custom Pack', 'Insulated Products Corp (IPC)', 'Magna LoBoy',\n",
       "       'Speedling', 'Insulfoam LLC', 'Armstrong Brands'], dtype=object)"
      ]
     },
     "execution_count": 3,
     "metadata": {},
     "output_type": "execute_result"
    }
   ],
   "source": [
    "companies_df.top_competitors.unique()"
   ]
  },
  {
   "cell_type": "markdown",
   "metadata": {},
   "source": [
    "### View All Scatter Plot"
   ]
  },
  {
   "cell_type": "code",
   "execution_count": 4,
   "metadata": {},
   "outputs": [
    {
     "data": {
      "application/vnd.plotly.v1+json": {
       "config": {
        "plotlyServerURL": "https://plot.ly"
       },
       "data": [
        {
         "cluster": {
          "enabled": true
         },
         "customdata": [
          [
           "Grove City",
           "OH",
           "Alleguard - Huntington",
           39.8821935,
           -83.0935377
          ],
          [
           "Bastrop",
           "TX",
           "Alleguard - Huntington",
           30.1104947,
           -97.3152701
          ],
          [
           "Cave Spring ",
           "GA",
           "Alleguard - Huntington",
           34.1075975,
           -85.33634339999999
          ],
          [
           "Greer",
           "SC",
           "Alleguard - Huntington",
           34.9387279,
           -82.2270568
          ],
          [
           "Greenville",
           "MI",
           "Alleguard - Huntington",
           43.1775314,
           -85.2527987
          ],
          [
           "Radford",
           "VA",
           "Alleguard - Huntington",
           37.13179239999999,
           -80.5764477
          ],
          [
           "West Brookfield",
           "MA",
           "Alleguard - Huntington",
           42.2353463,
           -72.14116419999999
          ],
          [
           "Monticello",
           "AR",
           "Alleguard - Huntington",
           33.6296702,
           -91.8021856
          ]
         ],
         "hovertemplate": "<b>%{hovertext}</b><br><br>city=%{customdata[0]}<br>state=%{customdata[1]}<extra></extra>",
         "hovertext": [
          "Alleguard - Huntington",
          "Alleguard - Huntington",
          "Alleguard - Huntington",
          "Alleguard - Huntington",
          "Alleguard - Huntington",
          "Alleguard - Huntington",
          "Alleguard - Huntington",
          "Alleguard - Huntington"
         ],
         "lat": [
          39.8821935,
          30.1104947,
          34.1075975,
          34.9387279,
          43.1775314,
          37.13179239999999,
          42.2353463,
          33.6296702
         ],
         "legendgroup": "Alleguard - Huntington",
         "lon": [
          -83.0935377,
          -97.3152701,
          -85.33634339999999,
          -82.2270568,
          -85.2527987,
          -80.5764477,
          -72.14116419999999,
          -91.8021856
         ],
         "marker": {
          "color": "#636efa"
         },
         "mode": "markers",
         "name": "Alleguard - Huntington",
         "showlegend": true,
         "subplot": "mapbox",
         "type": "scattermapbox"
        },
        {
         "cluster": {
          "enabled": true
         },
         "customdata": [
          [
           "Whiteland",
           "IN",
           "Cellofoam",
           39.5500485,
           -86.0797079
          ],
          [
           "Sallisaw",
           "OK",
           "Cellofoam",
           35.4603711,
           -94.7874463
          ],
          [
           "Conyers",
           "GA",
           "Cellofoam",
           33.6676103,
           -84.01769039999999
          ],
          [
           "Gainesville",
           "GA",
           "Cellofoam",
           34.2978794,
           -83.8240663
          ],
          [
           "Orlando",
           "FL",
           "Cellofoam",
           28.5383832,
           -81.3789269
          ],
          [
           "Fredericksburg",
           "VA",
           "Cellofoam",
           38.3031837,
           -77.4605399
          ],
          [
           "Winchester",
           "VA",
           "Cellofoam",
           39.1856597,
           -78.1633341
          ]
         ],
         "hovertemplate": "<b>%{hovertext}</b><br><br>city=%{customdata[0]}<br>state=%{customdata[1]}<extra></extra>",
         "hovertext": [
          "Cellofoam",
          "Cellofoam",
          "Cellofoam",
          "Cellofoam",
          "Cellofoam",
          "Cellofoam",
          "Cellofoam"
         ],
         "lat": [
          39.5500485,
          35.4603711,
          33.6676103,
          34.2978794,
          28.5383832,
          38.3031837,
          39.1856597
         ],
         "legendgroup": "Cellofoam",
         "lon": [
          -86.0797079,
          -94.7874463,
          -84.01769039999999,
          -83.8240663,
          -81.3789269,
          -77.4605399,
          -78.1633341
         ],
         "marker": {
          "color": "#EF553B"
         },
         "mode": "markers",
         "name": "Cellofoam",
         "showlegend": true,
         "subplot": "mapbox",
         "type": "scattermapbox"
        },
        {
         "cluster": {
          "enabled": true
         },
         "customdata": [
          [
           "Cherryville",
           "NC",
           "Modern Polymers",
           35.3789361,
           -81.3795737
          ]
         ],
         "hovertemplate": "<b>%{hovertext}</b><br><br>city=%{customdata[0]}<br>state=%{customdata[1]}<extra></extra>",
         "hovertext": [
          "Modern Polymers"
         ],
         "lat": [
          35.3789361
         ],
         "legendgroup": "Modern Polymers",
         "lon": [
          -81.3795737
         ],
         "marker": {
          "color": "#00cc96"
         },
         "mode": "markers",
         "name": "Modern Polymers",
         "showlegend": true,
         "subplot": "mapbox",
         "type": "scattermapbox"
        },
        {
         "cluster": {
          "enabled": true
         },
         "customdata": [
          [
           "Reno",
           "NV",
           "EFP",
           39.529919,
           -119.8142691
          ],
          [
           "Casa Granda",
           "AZ",
           "EFP",
           32.9110027,
           -111.7733902
          ],
          [
           "Evansville",
           "IN",
           "EFP",
           37.9715592,
           -87.5710898
          ],
          [
           "La vergne",
           "TN",
           "EFP",
           36.0156178,
           -86.5819394
          ],
          [
           "Decatur",
           "AL",
           "EFP",
           34.6059253,
           -86.9833417
          ],
          [
           "Bishopville",
           "SC",
           "EFP",
           34.2182107,
           -80.2484056
          ],
          [
           "Elkhart",
           "IN",
           "EFP",
           41.6873832,
           -85.973517
          ]
         ],
         "hovertemplate": "<b>%{hovertext}</b><br><br>city=%{customdata[0]}<br>state=%{customdata[1]}<extra></extra>",
         "hovertext": [
          "EFP",
          "EFP",
          "EFP",
          "EFP",
          "EFP",
          "EFP",
          "EFP"
         ],
         "lat": [
          39.529919,
          32.9110027,
          37.9715592,
          36.0156178,
          34.6059253,
          34.2182107,
          41.6873832
         ],
         "legendgroup": "EFP",
         "lon": [
          -119.8142691,
          -111.7733902,
          -87.5710898,
          -86.5819394,
          -86.9833417,
          -80.2484056,
          -85.973517
         ],
         "marker": {
          "color": "#ab63fa"
         },
         "mode": "markers",
         "name": "EFP",
         "showlegend": true,
         "subplot": "mapbox",
         "type": "scattermapbox"
        },
        {
         "cluster": {
          "enabled": true
         },
         "customdata": [
          [
           "McFarland",
           "CA",
           "Aptco",
           35.6780104,
           -119.2292748
          ]
         ],
         "hovertemplate": "<b>%{hovertext}</b><br><br>city=%{customdata[0]}<br>state=%{customdata[1]}<extra></extra>",
         "hovertext": [
          "Aptco"
         ],
         "lat": [
          35.6780104
         ],
         "legendgroup": "Aptco",
         "lon": [
          -119.2292748
         ],
         "marker": {
          "color": "#FFA15A"
         },
         "mode": "markers",
         "name": "Aptco",
         "showlegend": true,
         "subplot": "mapbox",
         "type": "scattermapbox"
        },
        {
         "cluster": {
          "enabled": true
         },
         "customdata": [
          [
           "Visalia",
           "CA",
           "Tempo Precision Molded Foam",
           36.3301329,
           -119.2966367
          ]
         ],
         "hovertemplate": "<b>%{hovertext}</b><br><br>city=%{customdata[0]}<br>state=%{customdata[1]}<extra></extra>",
         "hovertext": [
          "Tempo Precision Molded Foam"
         ],
         "lat": [
          36.3301329
         ],
         "legendgroup": "Tempo Precision Molded Foam",
         "lon": [
          -119.2966367
         ],
         "marker": {
          "color": "#19d3f3"
         },
         "mode": "markers",
         "name": "Tempo Precision Molded Foam",
         "showlegend": true,
         "subplot": "mapbox",
         "type": "scattermapbox"
        },
        {
         "cluster": {
          "enabled": true
         },
         "customdata": [
          [
           "McKinney",
           "TX",
           "ACH Foam Technologies",
           33.1983388,
           -96.6389342
          ],
          [
           "Westminster",
           "CO",
           "ACH Foam Technologies",
           39.8366528,
           -105.0372046
          ]
         ],
         "hovertemplate": "<b>%{hovertext}</b><br><br>city=%{customdata[0]}<br>state=%{customdata[1]}<extra></extra>",
         "hovertext": [
          "ACH Foam Technologies",
          "ACH Foam Technologies"
         ],
         "lat": [
          33.1983388,
          39.8366528
         ],
         "legendgroup": "ACH Foam Technologies",
         "lon": [
          -96.6389342,
          -105.0372046
         ],
         "marker": {
          "color": "#FF6692"
         },
         "mode": "markers",
         "name": "ACH Foam Technologies",
         "showlegend": true,
         "subplot": "mapbox",
         "type": "scattermapbox"
        },
        {
         "cluster": {
          "enabled": true
         },
         "customdata": [
          [
           "Sylmar",
           "CA",
           "Atlas Molded Products",
           34.2994874,
           -118.4588292
          ],
          [
           "Denver",
           "CO",
           "Atlas Molded Products",
           39.7392358,
           -104.990251
          ],
          [
           "Murray",
           "UT",
           "Atlas Molded Products",
           40.6668916,
           -111.8879909
          ],
          [
           "Reno",
           "NV",
           "Atlas Molded Products",
           39.529919,
           -119.8142691
          ],
          [
           "Kingman",
           "AZ",
           "Atlas Molded Products",
           35.189443,
           -114.0530065
          ],
          [
           "E Arlington",
           "TX",
           "Atlas Molded Products",
           32.735687,
           -97.1080656
          ],
          [
           "Byron Center",
           "MI",
           "Atlas Molded Products",
           42.8122508,
           -85.7228061
          ],
          [
           "Fond du Lac",
           "WI",
           "Atlas Molded Products",
           43.7730448,
           -88.4470508
          ],
          [
           "Fredericktown",
           "MO",
           "Atlas Molded Products",
           37.55977540000001,
           -90.2940069
          ],
          [
           "Kansas City",
           "KS",
           "Atlas Molded Products",
           39.11553139999999,
           -94.6267873
          ],
          [
           "Perryville",
           "MO",
           "Atlas Molded Products",
           37.7242202,
           -89.8612196
          ],
          [
           "Washington",
           "IA",
           "Atlas Molded Products",
           41.30140770000001,
           -91.6916417
          ],
          [
           "Gainesville",
           "GA",
           "Atlas Molded Products",
           34.2978794,
           -83.8240663
          ]
         ],
         "hovertemplate": "<b>%{hovertext}</b><br><br>city=%{customdata[0]}<br>state=%{customdata[1]}<extra></extra>",
         "hovertext": [
          "Atlas Molded Products",
          "Atlas Molded Products",
          "Atlas Molded Products",
          "Atlas Molded Products",
          "Atlas Molded Products",
          "Atlas Molded Products",
          "Atlas Molded Products",
          "Atlas Molded Products",
          "Atlas Molded Products",
          "Atlas Molded Products",
          "Atlas Molded Products",
          "Atlas Molded Products",
          "Atlas Molded Products"
         ],
         "lat": [
          34.2994874,
          39.7392358,
          40.6668916,
          39.529919,
          35.189443,
          32.735687,
          42.8122508,
          43.7730448,
          37.55977540000001,
          39.11553139999999,
          37.7242202,
          41.30140770000001,
          34.2978794
         ],
         "legendgroup": "Atlas Molded Products",
         "lon": [
          -118.4588292,
          -104.990251,
          -111.8879909,
          -119.8142691,
          -114.0530065,
          -97.1080656,
          -85.7228061,
          -88.4470508,
          -90.2940069,
          -94.6267873,
          -89.8612196,
          -91.6916417,
          -83.8240663
         ],
         "marker": {
          "color": "#B6E880"
         },
         "mode": "markers",
         "name": "Atlas Molded Products",
         "showlegend": true,
         "subplot": "mapbox",
         "type": "scattermapbox"
        },
        {
         "cluster": {
          "enabled": true
         },
         "customdata": [
          [
           "Ridgeway",
           "VA",
           "Sonoco",
           36.5768046,
           -79.8583721
          ],
          [
           "Findlay",
           "OH",
           "Sonoco",
           41.0391283,
           -83.6502309
          ],
          [
           "Owosso",
           "MI",
           "Sonoco",
           42.9978049,
           -84.1766358
          ],
          [
           "Tullahoma",
           "TN",
           "Sonoco",
           35.3620235,
           -86.20943419999999
          ],
          [
           "Mt. Pleasant",
           "TN",
           "Sonoco",
           35.5342414,
           -87.20695409999999
          ],
          [
           "Shelbyville",
           "KY",
           "Sonoco",
           38.2120144,
           -85.2235666
          ],
          [
           "Colorado Springs",
           "CO",
           "Sonoco",
           38.8338816,
           -104.8213634
          ]
         ],
         "hovertemplate": "<b>%{hovertext}</b><br><br>city=%{customdata[0]}<br>state=%{customdata[1]}<extra></extra>",
         "hovertext": [
          "Sonoco",
          "Sonoco",
          "Sonoco",
          "Sonoco",
          "Sonoco",
          "Sonoco",
          "Sonoco"
         ],
         "lat": [
          36.5768046,
          41.0391283,
          42.9978049,
          35.3620235,
          35.5342414,
          38.2120144,
          38.8338816
         ],
         "legendgroup": "Sonoco",
         "lon": [
          -79.8583721,
          -83.6502309,
          -84.1766358,
          -86.20943419999999,
          -87.20695409999999,
          -85.2235666,
          -104.8213634
         ],
         "marker": {
          "color": "#FF97FF"
         },
         "mode": "markers",
         "name": "Sonoco",
         "showlegend": true,
         "subplot": "mapbox",
         "type": "scattermapbox"
        },
        {
         "cluster": {
          "enabled": true
         },
         "customdata": [
          [
           "Mcfarland",
           "CA",
           "Cold Keepers",
           35.6780104,
           -119.2292748
          ]
         ],
         "hovertemplate": "<b>%{hovertext}</b><br><br>city=%{customdata[0]}<br>state=%{customdata[1]}<extra></extra>",
         "hovertext": [
          "Cold Keepers"
         ],
         "lat": [
          35.6780104
         ],
         "legendgroup": "Cold Keepers",
         "lon": [
          -119.2292748
         ],
         "marker": {
          "color": "#FECB52"
         },
         "mode": "markers",
         "name": "Cold Keepers",
         "showlegend": true,
         "subplot": "mapbox",
         "type": "scattermapbox"
        },
        {
         "cluster": {
          "enabled": true
         },
         "customdata": [
          [
           "Thomasville",
           "GA",
           "Styrotech",
           30.8365815,
           -83.9787808
          ]
         ],
         "hovertemplate": "<b>%{hovertext}</b><br><br>city=%{customdata[0]}<br>state=%{customdata[1]}<extra></extra>",
         "hovertext": [
          "Styrotech"
         ],
         "lat": [
          30.8365815
         ],
         "legendgroup": "Styrotech",
         "lon": [
          -83.9787808
         ],
         "marker": {
          "color": "#636efa"
         },
         "mode": "markers",
         "name": "Styrotech",
         "showlegend": true,
         "subplot": "mapbox",
         "type": "scattermapbox"
        },
        {
         "cluster": {
          "enabled": true
         },
         "customdata": [
          [
           "Brooklyn Park",
           "MN",
           "OpCO",
           45.0941315,
           -93.3563405
          ]
         ],
         "hovertemplate": "<b>%{hovertext}</b><br><br>city=%{customdata[0]}<br>state=%{customdata[1]}<extra></extra>",
         "hovertext": [
          "OpCO"
         ],
         "lat": [
          45.0941315
         ],
         "legendgroup": "OpCO",
         "lon": [
          -93.3563405
         ],
         "marker": {
          "color": "#EF553B"
         },
         "mode": "markers",
         "name": "OpCO",
         "showlegend": true,
         "subplot": "mapbox",
         "type": "scattermapbox"
        },
        {
         "cluster": {
          "enabled": true
         },
         "customdata": [
          [
           "Latrobe",
           "PA",
           "Plastillite",
           40.3211808,
           -79.37948109999999
          ]
         ],
         "hovertemplate": "<b>%{hovertext}</b><br><br>city=%{customdata[0]}<br>state=%{customdata[1]}<extra></extra>",
         "hovertext": [
          "Plastillite"
         ],
         "lat": [
          40.3211808
         ],
         "legendgroup": "Plastillite",
         "lon": [
          -79.37948109999999
         ],
         "marker": {
          "color": "#00cc96"
         },
         "mode": "markers",
         "name": "Plastillite",
         "showlegend": true,
         "subplot": "mapbox",
         "type": "scattermapbox"
        },
        {
         "cluster": {
          "enabled": true
         },
         "customdata": [
          [
           "Omaha",
           "NE",
           "Houston Foam Plastics",
           41.2565369,
           -95.9345034
          ],
          [
           "Houston",
           "TX",
           "Houston Foam Plastics",
           29.7600771,
           -95.3701108
          ]
         ],
         "hovertemplate": "<b>%{hovertext}</b><br><br>city=%{customdata[0]}<br>state=%{customdata[1]}<extra></extra>",
         "hovertext": [
          "Houston Foam Plastics",
          "Houston Foam Plastics"
         ],
         "lat": [
          41.2565369,
          29.7600771
         ],
         "legendgroup": "Houston Foam Plastics",
         "lon": [
          -95.9345034,
          -95.3701108
         ],
         "marker": {
          "color": "#ab63fa"
         },
         "mode": "markers",
         "name": "Houston Foam Plastics",
         "showlegend": true,
         "subplot": "mapbox",
         "type": "scattermapbox"
        },
        {
         "cluster": {
          "enabled": true
         },
         "customdata": [
          [
           "San Antonio",
           "TX",
           "Imperial Foam & Insulation",
           29.4251905,
           -98.4945922
          ]
         ],
         "hovertemplate": "<b>%{hovertext}</b><br><br>city=%{customdata[0]}<br>state=%{customdata[1]}<extra></extra>",
         "hovertext": [
          "Imperial Foam & Insulation"
         ],
         "lat": [
          29.4251905
         ],
         "legendgroup": "Imperial Foam & Insulation",
         "lon": [
          -98.4945922
         ],
         "marker": {
          "color": "#FFA15A"
         },
         "mode": "markers",
         "name": "Imperial Foam & Insulation",
         "showlegend": true,
         "subplot": "mapbox",
         "type": "scattermapbox"
        },
        {
         "cluster": {
          "enabled": true
         },
         "customdata": [
          [
           "Ormond Beach",
           "FL",
           "Marko Foam",
           29.2858129,
           -81.0558894
          ],
          [
           "Huntington Beach",
           "CA",
           "Marko Foam",
           33.6594835,
           -117.9988026
          ]
         ],
         "hovertemplate": "<b>%{hovertext}</b><br><br>city=%{customdata[0]}<br>state=%{customdata[1]}<extra></extra>",
         "hovertext": [
          "Marko Foam",
          "Marko Foam"
         ],
         "lat": [
          29.2858129,
          33.6594835
         ],
         "legendgroup": "Marko Foam",
         "lon": [
          -81.0558894,
          -117.9988026
         ],
         "marker": {
          "color": "#19d3f3"
         },
         "mode": "markers",
         "name": "Marko Foam",
         "showlegend": true,
         "subplot": "mapbox",
         "type": "scattermapbox"
        },
        {
         "cluster": {
          "enabled": true
         },
         "customdata": [
          [
           "Salt Lake City ",
           "UT",
           "Michigan Foam",
           40.7607793,
           -111.8910474
          ]
         ],
         "hovertemplate": "<b>%{hovertext}</b><br><br>city=%{customdata[0]}<br>state=%{customdata[1]}<extra></extra>",
         "hovertext": [
          "Michigan Foam"
         ],
         "lat": [
          40.7607793
         ],
         "legendgroup": "Michigan Foam",
         "lon": [
          -111.8910474
         ],
         "marker": {
          "color": "#FF6692"
         },
         "mode": "markers",
         "name": "Michigan Foam",
         "showlegend": true,
         "subplot": "mapbox",
         "type": "scattermapbox"
        },
        {
         "cluster": {
          "enabled": true
         },
         "customdata": [
          [
           "Wyoming",
           "MI",
           "Pal Pac",
           42.9133602,
           -85.7053085
          ]
         ],
         "hovertemplate": "<b>%{hovertext}</b><br><br>city=%{customdata[0]}<br>state=%{customdata[1]}<extra></extra>",
         "hovertext": [
          "Pal Pac"
         ],
         "lat": [
          42.9133602
         ],
         "legendgroup": "Pal Pac",
         "lon": [
          -85.7053085
         ],
         "marker": {
          "color": "#B6E880"
         },
         "mode": "markers",
         "name": "Pal Pac",
         "showlegend": true,
         "subplot": "mapbox",
         "type": "scattermapbox"
        },
        {
         "cluster": {
          "enabled": true
         },
         "customdata": [
          [
           "Ottawa",
           "OH",
           "Branch River Plastics",
           41.0192185,
           -84.0471666
          ]
         ],
         "hovertemplate": "<b>%{hovertext}</b><br><br>city=%{customdata[0]}<br>state=%{customdata[1]}<extra></extra>",
         "hovertext": [
          "Branch River Plastics"
         ],
         "lat": [
          41.0192185
         ],
         "legendgroup": "Branch River Plastics",
         "lon": [
          -84.0471666
         ],
         "marker": {
          "color": "#FF97FF"
         },
         "mode": "markers",
         "name": "Branch River Plastics",
         "showlegend": true,
         "subplot": "mapbox",
         "type": "scattermapbox"
        },
        {
         "cluster": {
          "enabled": true
         },
         "customdata": [
          [
           "Smithfield",
           "RI",
           "FMI-EPS",
           41.9220496,
           -71.54951009999999
          ]
         ],
         "hovertemplate": "<b>%{hovertext}</b><br><br>city=%{customdata[0]}<br>state=%{customdata[1]}<extra></extra>",
         "hovertext": [
          "FMI-EPS"
         ],
         "lat": [
          41.9220496
         ],
         "legendgroup": "FMI-EPS",
         "lon": [
          -71.54951009999999
         ],
         "marker": {
          "color": "#FECB52"
         },
         "mode": "markers",
         "name": "FMI-EPS",
         "showlegend": true,
         "subplot": "mapbox",
         "type": "scattermapbox"
        },
        {
         "cluster": {
          "enabled": true
         },
         "customdata": [
          [
           "Post Falls",
           "ID",
           "Polar Central",
           47.7179578,
           -116.9515856
          ]
         ],
         "hovertemplate": "<b>%{hovertext}</b><br><br>city=%{customdata[0]}<br>state=%{customdata[1]}<extra></extra>",
         "hovertext": [
          "Polar Central"
         ],
         "lat": [
          47.7179578
         ],
         "legendgroup": "Polar Central",
         "lon": [
          -116.9515856
         ],
         "marker": {
          "color": "#636efa"
         },
         "mode": "markers",
         "name": "Polar Central",
         "showlegend": true,
         "subplot": "mapbox",
         "type": "scattermapbox"
        },
        {
         "cluster": {
          "enabled": true
         },
         "customdata": [
          [
           "Prospect",
           "CT",
           "Mister Packaging",
           41.5023192,
           -72.9787163
          ]
         ],
         "hovertemplate": "<b>%{hovertext}</b><br><br>city=%{customdata[0]}<br>state=%{customdata[1]}<extra></extra>",
         "hovertext": [
          "Mister Packaging"
         ],
         "lat": [
          41.5023192
         ],
         "legendgroup": "Mister Packaging",
         "lon": [
          -72.9787163
         ],
         "marker": {
          "color": "#EF553B"
         },
         "mode": "markers",
         "name": "Mister Packaging",
         "showlegend": true,
         "subplot": "mapbox",
         "type": "scattermapbox"
        },
        {
         "cluster": {
          "enabled": true
         },
         "customdata": [
          [
           "Anaheim",
           "CA",
           "ThermaFoam",
           33.8365932,
           -117.9143012
          ]
         ],
         "hovertemplate": "<b>%{hovertext}</b><br><br>city=%{customdata[0]}<br>state=%{customdata[1]}<extra></extra>",
         "hovertext": [
          "ThermaFoam"
         ],
         "lat": [
          33.8365932
         ],
         "legendgroup": "ThermaFoam",
         "lon": [
          -117.9143012
         ],
         "marker": {
          "color": "#00cc96"
         },
         "mode": "markers",
         "name": "ThermaFoam",
         "showlegend": true,
         "subplot": "mapbox",
         "type": "scattermapbox"
        },
        {
         "cluster": {
          "enabled": true
         },
         "customdata": [
          [
           "Hillsboro",
           "TX",
           "Robin II",
           32.0109886,
           -97.1300061
          ]
         ],
         "hovertemplate": "<b>%{hovertext}</b><br><br>city=%{customdata[0]}<br>state=%{customdata[1]}<extra></extra>",
         "hovertext": [
          "Robin II"
         ],
         "lat": [
          32.0109886
         ],
         "legendgroup": "Robin II",
         "lon": [
          -97.1300061
         ],
         "marker": {
          "color": "#ab63fa"
         },
         "mode": "markers",
         "name": "Robin II",
         "showlegend": true,
         "subplot": "mapbox",
         "type": "scattermapbox"
        },
        {
         "cluster": {
          "enabled": true
         },
         "customdata": [
          [
           "Markesan",
           "WI",
           "Foam Pack Industries",
           43.7072047,
           -88.9901122
          ]
         ],
         "hovertemplate": "<b>%{hovertext}</b><br><br>city=%{customdata[0]}<br>state=%{customdata[1]}<extra></extra>",
         "hovertext": [
          "Foam Pack Industries"
         ],
         "lat": [
          43.7072047
         ],
         "legendgroup": "Foam Pack Industries",
         "lon": [
          -88.9901122
         ],
         "marker": {
          "color": "#FFA15A"
         },
         "mode": "markers",
         "name": "Foam Pack Industries",
         "showlegend": true,
         "subplot": "mapbox",
         "type": "scattermapbox"
        },
        {
         "cluster": {
          "enabled": true
         },
         "customdata": [
          [
           "Springfield",
           "NJ",
           "Clyde Tool & Die",
           40.7016937,
           -74.3222146
          ]
         ],
         "hovertemplate": "<b>%{hovertext}</b><br><br>city=%{customdata[0]}<br>state=%{customdata[1]}<extra></extra>",
         "hovertext": [
          "Clyde Tool & Die"
         ],
         "lat": [
          40.7016937
         ],
         "legendgroup": "Clyde Tool & Die",
         "lon": [
          -74.3222146
         ],
         "marker": {
          "color": "#19d3f3"
         },
         "mode": "markers",
         "name": "Clyde Tool & Die",
         "showlegend": true,
         "subplot": "mapbox",
         "type": "scattermapbox"
        },
        {
         "cluster": {
          "enabled": true
         },
         "customdata": [
          [
           "Clyde",
           "OH",
           "DiversiFoam Products",
           41.30422009999999,
           -82.975192
          ]
         ],
         "hovertemplate": "<b>%{hovertext}</b><br><br>city=%{customdata[0]}<br>state=%{customdata[1]}<extra></extra>",
         "hovertext": [
          "DiversiFoam Products"
         ],
         "lat": [
          41.30422009999999
         ],
         "legendgroup": "DiversiFoam Products",
         "lon": [
          -82.975192
         ],
         "marker": {
          "color": "#FF6692"
         },
         "mode": "markers",
         "name": "DiversiFoam Products",
         "showlegend": true,
         "subplot": "mapbox",
         "type": "scattermapbox"
        },
        {
         "cluster": {
          "enabled": true
         },
         "customdata": [
          [
           "Rockford",
           "MN",
           "Beaver Plastics",
           45.0872861,
           -93.7415093
          ]
         ],
         "hovertemplate": "<b>%{hovertext}</b><br><br>city=%{customdata[0]}<br>state=%{customdata[1]}<extra></extra>",
         "hovertext": [
          "Beaver Plastics"
         ],
         "lat": [
          45.0872861
         ],
         "legendgroup": "Beaver Plastics",
         "lon": [
          -93.7415093
         ],
         "marker": {
          "color": "#B6E880"
         },
         "mode": "markers",
         "name": "Beaver Plastics",
         "showlegend": true,
         "subplot": "mapbox",
         "type": "scattermapbox"
        },
        {
         "cluster": {
          "enabled": true
         },
         "customdata": [
          [
           "Watertown",
           "SD",
           "Aqua-Pak Industries Ltd",
           44.8994088,
           -97.1150732
          ]
         ],
         "hovertemplate": "<b>%{hovertext}</b><br><br>city=%{customdata[0]}<br>state=%{customdata[1]}<extra></extra>",
         "hovertext": [
          "Aqua-Pak Industries Ltd"
         ],
         "lat": [
          44.8994088
         ],
         "legendgroup": "Aqua-Pak Industries Ltd",
         "lon": [
          -97.1150732
         ],
         "marker": {
          "color": "#FF97FF"
         },
         "mode": "markers",
         "name": "Aqua-Pak Industries Ltd",
         "showlegend": true,
         "subplot": "mapbox",
         "type": "scattermapbox"
        },
        {
         "cluster": {
          "enabled": true
         },
         "customdata": [
          [
           "Shelbyville",
           "KY",
           "Creative Packaging",
           38.2120144,
           -85.2235666
          ],
          [
           "Vineland",
           "NJ",
           "Creative Packaging",
           39.4863773,
           -75.02596369999999
          ],
          [
           "Unadilla",
           "GA",
           "Creative Packaging",
           32.2617127,
           -83.7365798
          ],
          [
           "Chicago",
           "IL",
           "Creative Packaging",
           41.8781136,
           -87.6297982
          ],
          [
           "Ft. Worth",
           "TX",
           "Creative Packaging",
           32.7554883,
           -97.3307658
          ]
         ],
         "hovertemplate": "<b>%{hovertext}</b><br><br>city=%{customdata[0]}<br>state=%{customdata[1]}<extra></extra>",
         "hovertext": [
          "Creative Packaging",
          "Creative Packaging",
          "Creative Packaging",
          "Creative Packaging",
          "Creative Packaging"
         ],
         "lat": [
          38.2120144,
          39.4863773,
          32.2617127,
          41.8781136,
          32.7554883
         ],
         "legendgroup": "Creative Packaging",
         "lon": [
          -85.2235666,
          -75.02596369999999,
          -83.7365798,
          -87.6297982,
          -97.3307658
         ],
         "marker": {
          "color": "#FECB52"
         },
         "mode": "markers",
         "name": "Creative Packaging",
         "showlegend": true,
         "subplot": "mapbox",
         "type": "scattermapbox"
        },
        {
         "cluster": {
          "enabled": true
         },
         "customdata": [
          [
           "Phoenix",
           "AZ",
           "Custom Pack",
           33.4483771,
           -112.0740373
          ]
         ],
         "hovertemplate": "<b>%{hovertext}</b><br><br>city=%{customdata[0]}<br>state=%{customdata[1]}<extra></extra>",
         "hovertext": [
          "Custom Pack"
         ],
         "lat": [
          33.4483771
         ],
         "legendgroup": "Custom Pack",
         "lon": [
          -112.0740373
         ],
         "marker": {
          "color": "#636efa"
         },
         "mode": "markers",
         "name": "Custom Pack",
         "showlegend": true,
         "subplot": "mapbox",
         "type": "scattermapbox"
        },
        {
         "cluster": {
          "enabled": true
         },
         "customdata": [
          [
           "Eaton",
           "PA",
           "Insulated Products Corp (IPC)",
           41.5114731,
           -75.96954649999999
          ]
         ],
         "hovertemplate": "<b>%{hovertext}</b><br><br>city=%{customdata[0]}<br>state=%{customdata[1]}<extra></extra>",
         "hovertext": [
          "Insulated Products Corp (IPC)"
         ],
         "lat": [
          41.5114731
         ],
         "legendgroup": "Insulated Products Corp (IPC)",
         "lon": [
          -75.96954649999999
         ],
         "marker": {
          "color": "#EF553B"
         },
         "mode": "markers",
         "name": "Insulated Products Corp (IPC)",
         "showlegend": true,
         "subplot": "mapbox",
         "type": "scattermapbox"
        },
        {
         "cluster": {
          "enabled": true
         },
         "customdata": [
          [
           "Los Angeles",
           "CA",
           "Magna LoBoy",
           34.0549076,
           -118.242643
          ]
         ],
         "hovertemplate": "<b>%{hovertext}</b><br><br>city=%{customdata[0]}<br>state=%{customdata[1]}<extra></extra>",
         "hovertext": [
          "Magna LoBoy"
         ],
         "lat": [
          34.0549076
         ],
         "legendgroup": "Magna LoBoy",
         "lon": [
          -118.242643
         ],
         "marker": {
          "color": "#00cc96"
         },
         "mode": "markers",
         "name": "Magna LoBoy",
         "showlegend": true,
         "subplot": "mapbox",
         "type": "scattermapbox"
        },
        {
         "cluster": {
          "enabled": true
         },
         "customdata": [
          [
           "Fort Walton",
           "FL",
           "Speedling",
           30.42007079999999,
           -86.6170308
          ]
         ],
         "hovertemplate": "<b>%{hovertext}</b><br><br>city=%{customdata[0]}<br>state=%{customdata[1]}<extra></extra>",
         "hovertext": [
          "Speedling"
         ],
         "lat": [
          30.42007079999999
         ],
         "legendgroup": "Speedling",
         "lon": [
          -86.6170308
         ],
         "marker": {
          "color": "#ab63fa"
         },
         "mode": "markers",
         "name": "Speedling",
         "showlegend": true,
         "subplot": "mapbox",
         "type": "scattermapbox"
        },
        {
         "cluster": {
          "enabled": true
         },
         "customdata": [
          [
           "Sun City",
           "FL",
           "Insulfoam LLC",
           27.678254,
           -82.4787384
          ],
          [
           "Tacoma",
           "WA",
           "Insulfoam LLC",
           47.2528768,
           -122.4442906
          ],
          [
           "Anchorage",
           "AK",
           "Insulfoam LLC",
           61.2175758,
           -149.8996785
          ],
          [
           "Kent",
           "WA",
           "Insulfoam LLC",
           47.3830671,
           -122.234771
          ],
          [
           "Dixon",
           "CA",
           "Insulfoam LLC",
           38.4454641,
           -121.8232958
          ],
          [
           "Chino",
           "CA",
           "Insulfoam LLC",
           34.0122346,
           -117.688944
          ],
          [
           "Salt Lake City",
           "UT",
           "Insulfoam LLC",
           40.7607793,
           -111.8910474
          ],
          [
           "Phoenix",
           "AZ",
           "Insulfoam LLC",
           33.4483771,
           -112.0740373
          ],
          [
           "Aurora",
           "CO",
           "Insulfoam LLC",
           39.7294319,
           -104.8319195
          ],
          [
           "Mead",
           "NE",
           "Insulfoam LLC",
           41.2286493,
           -96.489212
          ],
          [
           "Lakeland",
           "FL",
           "Insulfoam LLC",
           28.0394654,
           -81.9498042
          ]
         ],
         "hovertemplate": "<b>%{hovertext}</b><br><br>city=%{customdata[0]}<br>state=%{customdata[1]}<extra></extra>",
         "hovertext": [
          "Insulfoam LLC",
          "Insulfoam LLC",
          "Insulfoam LLC",
          "Insulfoam LLC",
          "Insulfoam LLC",
          "Insulfoam LLC",
          "Insulfoam LLC",
          "Insulfoam LLC",
          "Insulfoam LLC",
          "Insulfoam LLC",
          "Insulfoam LLC"
         ],
         "lat": [
          27.678254,
          47.2528768,
          61.2175758,
          47.3830671,
          38.4454641,
          34.0122346,
          40.7607793,
          33.4483771,
          39.7294319,
          41.2286493,
          28.0394654
         ],
         "legendgroup": "Insulfoam LLC",
         "lon": [
          -82.4787384,
          -122.4442906,
          -149.8996785,
          -122.234771,
          -121.8232958,
          -117.688944,
          -111.8910474,
          -112.0740373,
          -104.8319195,
          -96.489212,
          -81.9498042
         ],
         "marker": {
          "color": "#FFA15A"
         },
         "mode": "markers",
         "name": "Insulfoam LLC",
         "showlegend": true,
         "subplot": "mapbox",
         "type": "scattermapbox"
        },
        {
         "cluster": {
          "enabled": true
         },
         "customdata": [
          [
           "Buffalo",
           "NY",
           "Armstrong Brands",
           42.88644679999999,
           -78.8783689
          ]
         ],
         "hovertemplate": "<b>%{hovertext}</b><br><br>city=%{customdata[0]}<br>state=%{customdata[1]}<extra></extra>",
         "hovertext": [
          "Armstrong Brands"
         ],
         "lat": [
          42.88644679999999
         ],
         "legendgroup": "Armstrong Brands",
         "lon": [
          -78.8783689
         ],
         "marker": {
          "color": "#19d3f3"
         },
         "mode": "markers",
         "name": "Armstrong Brands",
         "showlegend": true,
         "subplot": "mapbox",
         "type": "scattermapbox"
        }
       ],
       "layout": {
        "legend": {
         "title": {
          "text": "Our Top Competitors"
         },
         "tracegroupgap": 0
        },
        "mapbox": {
         "center": {
          "lat": 37.86322325444445,
          "lon": -94.78393554333334
         },
         "domain": {
          "x": [
           0,
           1
          ],
          "y": [
           0,
           1
          ]
         },
         "style": "open-street-map",
         "zoom": 4
        },
        "margin": {
         "b": 2,
         "l": 2,
         "r": 2,
         "t": 2
        },
        "template": {
         "data": {
          "bar": [
           {
            "error_x": {
             "color": "#2a3f5f"
            },
            "error_y": {
             "color": "#2a3f5f"
            },
            "marker": {
             "line": {
              "color": "#E5ECF6",
              "width": 0.5
             },
             "pattern": {
              "fillmode": "overlay",
              "size": 10,
              "solidity": 0.2
             }
            },
            "type": "bar"
           }
          ],
          "barpolar": [
           {
            "marker": {
             "line": {
              "color": "#E5ECF6",
              "width": 0.5
             },
             "pattern": {
              "fillmode": "overlay",
              "size": 10,
              "solidity": 0.2
             }
            },
            "type": "barpolar"
           }
          ],
          "carpet": [
           {
            "aaxis": {
             "endlinecolor": "#2a3f5f",
             "gridcolor": "white",
             "linecolor": "white",
             "minorgridcolor": "white",
             "startlinecolor": "#2a3f5f"
            },
            "baxis": {
             "endlinecolor": "#2a3f5f",
             "gridcolor": "white",
             "linecolor": "white",
             "minorgridcolor": "white",
             "startlinecolor": "#2a3f5f"
            },
            "type": "carpet"
           }
          ],
          "choropleth": [
           {
            "colorbar": {
             "outlinewidth": 0,
             "ticks": ""
            },
            "type": "choropleth"
           }
          ],
          "contour": [
           {
            "colorbar": {
             "outlinewidth": 0,
             "ticks": ""
            },
            "colorscale": [
             [
              0,
              "#0d0887"
             ],
             [
              0.1111111111111111,
              "#46039f"
             ],
             [
              0.2222222222222222,
              "#7201a8"
             ],
             [
              0.3333333333333333,
              "#9c179e"
             ],
             [
              0.4444444444444444,
              "#bd3786"
             ],
             [
              0.5555555555555556,
              "#d8576b"
             ],
             [
              0.6666666666666666,
              "#ed7953"
             ],
             [
              0.7777777777777778,
              "#fb9f3a"
             ],
             [
              0.8888888888888888,
              "#fdca26"
             ],
             [
              1,
              "#f0f921"
             ]
            ],
            "type": "contour"
           }
          ],
          "contourcarpet": [
           {
            "colorbar": {
             "outlinewidth": 0,
             "ticks": ""
            },
            "type": "contourcarpet"
           }
          ],
          "heatmap": [
           {
            "colorbar": {
             "outlinewidth": 0,
             "ticks": ""
            },
            "colorscale": [
             [
              0,
              "#0d0887"
             ],
             [
              0.1111111111111111,
              "#46039f"
             ],
             [
              0.2222222222222222,
              "#7201a8"
             ],
             [
              0.3333333333333333,
              "#9c179e"
             ],
             [
              0.4444444444444444,
              "#bd3786"
             ],
             [
              0.5555555555555556,
              "#d8576b"
             ],
             [
              0.6666666666666666,
              "#ed7953"
             ],
             [
              0.7777777777777778,
              "#fb9f3a"
             ],
             [
              0.8888888888888888,
              "#fdca26"
             ],
             [
              1,
              "#f0f921"
             ]
            ],
            "type": "heatmap"
           }
          ],
          "heatmapgl": [
           {
            "colorbar": {
             "outlinewidth": 0,
             "ticks": ""
            },
            "colorscale": [
             [
              0,
              "#0d0887"
             ],
             [
              0.1111111111111111,
              "#46039f"
             ],
             [
              0.2222222222222222,
              "#7201a8"
             ],
             [
              0.3333333333333333,
              "#9c179e"
             ],
             [
              0.4444444444444444,
              "#bd3786"
             ],
             [
              0.5555555555555556,
              "#d8576b"
             ],
             [
              0.6666666666666666,
              "#ed7953"
             ],
             [
              0.7777777777777778,
              "#fb9f3a"
             ],
             [
              0.8888888888888888,
              "#fdca26"
             ],
             [
              1,
              "#f0f921"
             ]
            ],
            "type": "heatmapgl"
           }
          ],
          "histogram": [
           {
            "marker": {
             "pattern": {
              "fillmode": "overlay",
              "size": 10,
              "solidity": 0.2
             }
            },
            "type": "histogram"
           }
          ],
          "histogram2d": [
           {
            "colorbar": {
             "outlinewidth": 0,
             "ticks": ""
            },
            "colorscale": [
             [
              0,
              "#0d0887"
             ],
             [
              0.1111111111111111,
              "#46039f"
             ],
             [
              0.2222222222222222,
              "#7201a8"
             ],
             [
              0.3333333333333333,
              "#9c179e"
             ],
             [
              0.4444444444444444,
              "#bd3786"
             ],
             [
              0.5555555555555556,
              "#d8576b"
             ],
             [
              0.6666666666666666,
              "#ed7953"
             ],
             [
              0.7777777777777778,
              "#fb9f3a"
             ],
             [
              0.8888888888888888,
              "#fdca26"
             ],
             [
              1,
              "#f0f921"
             ]
            ],
            "type": "histogram2d"
           }
          ],
          "histogram2dcontour": [
           {
            "colorbar": {
             "outlinewidth": 0,
             "ticks": ""
            },
            "colorscale": [
             [
              0,
              "#0d0887"
             ],
             [
              0.1111111111111111,
              "#46039f"
             ],
             [
              0.2222222222222222,
              "#7201a8"
             ],
             [
              0.3333333333333333,
              "#9c179e"
             ],
             [
              0.4444444444444444,
              "#bd3786"
             ],
             [
              0.5555555555555556,
              "#d8576b"
             ],
             [
              0.6666666666666666,
              "#ed7953"
             ],
             [
              0.7777777777777778,
              "#fb9f3a"
             ],
             [
              0.8888888888888888,
              "#fdca26"
             ],
             [
              1,
              "#f0f921"
             ]
            ],
            "type": "histogram2dcontour"
           }
          ],
          "mesh3d": [
           {
            "colorbar": {
             "outlinewidth": 0,
             "ticks": ""
            },
            "type": "mesh3d"
           }
          ],
          "parcoords": [
           {
            "line": {
             "colorbar": {
              "outlinewidth": 0,
              "ticks": ""
             }
            },
            "type": "parcoords"
           }
          ],
          "pie": [
           {
            "automargin": true,
            "type": "pie"
           }
          ],
          "scatter": [
           {
            "fillpattern": {
             "fillmode": "overlay",
             "size": 10,
             "solidity": 0.2
            },
            "type": "scatter"
           }
          ],
          "scatter3d": [
           {
            "line": {
             "colorbar": {
              "outlinewidth": 0,
              "ticks": ""
             }
            },
            "marker": {
             "colorbar": {
              "outlinewidth": 0,
              "ticks": ""
             }
            },
            "type": "scatter3d"
           }
          ],
          "scattercarpet": [
           {
            "marker": {
             "colorbar": {
              "outlinewidth": 0,
              "ticks": ""
             }
            },
            "type": "scattercarpet"
           }
          ],
          "scattergeo": [
           {
            "marker": {
             "colorbar": {
              "outlinewidth": 0,
              "ticks": ""
             }
            },
            "type": "scattergeo"
           }
          ],
          "scattergl": [
           {
            "marker": {
             "colorbar": {
              "outlinewidth": 0,
              "ticks": ""
             }
            },
            "type": "scattergl"
           }
          ],
          "scattermapbox": [
           {
            "marker": {
             "colorbar": {
              "outlinewidth": 0,
              "ticks": ""
             }
            },
            "type": "scattermapbox"
           }
          ],
          "scatterpolar": [
           {
            "marker": {
             "colorbar": {
              "outlinewidth": 0,
              "ticks": ""
             }
            },
            "type": "scatterpolar"
           }
          ],
          "scatterpolargl": [
           {
            "marker": {
             "colorbar": {
              "outlinewidth": 0,
              "ticks": ""
             }
            },
            "type": "scatterpolargl"
           }
          ],
          "scatterternary": [
           {
            "marker": {
             "colorbar": {
              "outlinewidth": 0,
              "ticks": ""
             }
            },
            "type": "scatterternary"
           }
          ],
          "surface": [
           {
            "colorbar": {
             "outlinewidth": 0,
             "ticks": ""
            },
            "colorscale": [
             [
              0,
              "#0d0887"
             ],
             [
              0.1111111111111111,
              "#46039f"
             ],
             [
              0.2222222222222222,
              "#7201a8"
             ],
             [
              0.3333333333333333,
              "#9c179e"
             ],
             [
              0.4444444444444444,
              "#bd3786"
             ],
             [
              0.5555555555555556,
              "#d8576b"
             ],
             [
              0.6666666666666666,
              "#ed7953"
             ],
             [
              0.7777777777777778,
              "#fb9f3a"
             ],
             [
              0.8888888888888888,
              "#fdca26"
             ],
             [
              1,
              "#f0f921"
             ]
            ],
            "type": "surface"
           }
          ],
          "table": [
           {
            "cells": {
             "fill": {
              "color": "#EBF0F8"
             },
             "line": {
              "color": "white"
             }
            },
            "header": {
             "fill": {
              "color": "#C8D4E3"
             },
             "line": {
              "color": "white"
             }
            },
            "type": "table"
           }
          ]
         },
         "layout": {
          "annotationdefaults": {
           "arrowcolor": "#2a3f5f",
           "arrowhead": 0,
           "arrowwidth": 1
          },
          "autotypenumbers": "strict",
          "coloraxis": {
           "colorbar": {
            "outlinewidth": 0,
            "ticks": ""
           }
          },
          "colorscale": {
           "diverging": [
            [
             0,
             "#8e0152"
            ],
            [
             0.1,
             "#c51b7d"
            ],
            [
             0.2,
             "#de77ae"
            ],
            [
             0.3,
             "#f1b6da"
            ],
            [
             0.4,
             "#fde0ef"
            ],
            [
             0.5,
             "#f7f7f7"
            ],
            [
             0.6,
             "#e6f5d0"
            ],
            [
             0.7,
             "#b8e186"
            ],
            [
             0.8,
             "#7fbc41"
            ],
            [
             0.9,
             "#4d9221"
            ],
            [
             1,
             "#276419"
            ]
           ],
           "sequential": [
            [
             0,
             "#0d0887"
            ],
            [
             0.1111111111111111,
             "#46039f"
            ],
            [
             0.2222222222222222,
             "#7201a8"
            ],
            [
             0.3333333333333333,
             "#9c179e"
            ],
            [
             0.4444444444444444,
             "#bd3786"
            ],
            [
             0.5555555555555556,
             "#d8576b"
            ],
            [
             0.6666666666666666,
             "#ed7953"
            ],
            [
             0.7777777777777778,
             "#fb9f3a"
            ],
            [
             0.8888888888888888,
             "#fdca26"
            ],
            [
             1,
             "#f0f921"
            ]
           ],
           "sequentialminus": [
            [
             0,
             "#0d0887"
            ],
            [
             0.1111111111111111,
             "#46039f"
            ],
            [
             0.2222222222222222,
             "#7201a8"
            ],
            [
             0.3333333333333333,
             "#9c179e"
            ],
            [
             0.4444444444444444,
             "#bd3786"
            ],
            [
             0.5555555555555556,
             "#d8576b"
            ],
            [
             0.6666666666666666,
             "#ed7953"
            ],
            [
             0.7777777777777778,
             "#fb9f3a"
            ],
            [
             0.8888888888888888,
             "#fdca26"
            ],
            [
             1,
             "#f0f921"
            ]
           ]
          },
          "colorway": [
           "#636efa",
           "#EF553B",
           "#00cc96",
           "#ab63fa",
           "#FFA15A",
           "#19d3f3",
           "#FF6692",
           "#B6E880",
           "#FF97FF",
           "#FECB52"
          ],
          "font": {
           "color": "#2a3f5f"
          },
          "geo": {
           "bgcolor": "white",
           "lakecolor": "white",
           "landcolor": "#E5ECF6",
           "showlakes": true,
           "showland": true,
           "subunitcolor": "white"
          },
          "hoverlabel": {
           "align": "left"
          },
          "hovermode": "closest",
          "mapbox": {
           "style": "light"
          },
          "paper_bgcolor": "white",
          "plot_bgcolor": "#E5ECF6",
          "polar": {
           "angularaxis": {
            "gridcolor": "white",
            "linecolor": "white",
            "ticks": ""
           },
           "bgcolor": "#E5ECF6",
           "radialaxis": {
            "gridcolor": "white",
            "linecolor": "white",
            "ticks": ""
           }
          },
          "scene": {
           "xaxis": {
            "backgroundcolor": "#E5ECF6",
            "gridcolor": "white",
            "gridwidth": 2,
            "linecolor": "white",
            "showbackground": true,
            "ticks": "",
            "zerolinecolor": "white"
           },
           "yaxis": {
            "backgroundcolor": "#E5ECF6",
            "gridcolor": "white",
            "gridwidth": 2,
            "linecolor": "white",
            "showbackground": true,
            "ticks": "",
            "zerolinecolor": "white"
           },
           "zaxis": {
            "backgroundcolor": "#E5ECF6",
            "gridcolor": "white",
            "gridwidth": 2,
            "linecolor": "white",
            "showbackground": true,
            "ticks": "",
            "zerolinecolor": "white"
           }
          },
          "shapedefaults": {
           "line": {
            "color": "#2a3f5f"
           }
          },
          "ternary": {
           "aaxis": {
            "gridcolor": "white",
            "linecolor": "white",
            "ticks": ""
           },
           "baxis": {
            "gridcolor": "white",
            "linecolor": "white",
            "ticks": ""
           },
           "bgcolor": "#E5ECF6",
           "caxis": {
            "gridcolor": "white",
            "linecolor": "white",
            "ticks": ""
           }
          },
          "title": {
           "x": 0.05
          },
          "xaxis": {
           "automargin": true,
           "gridcolor": "white",
           "linecolor": "white",
           "ticks": "",
           "title": {
            "standoff": 15
           },
           "zerolinecolor": "white",
           "zerolinewidth": 2
          },
          "yaxis": {
           "automargin": true,
           "gridcolor": "white",
           "linecolor": "white",
           "ticks": "",
           "title": {
            "standoff": 15
           },
           "zerolinecolor": "white",
           "zerolinewidth": 2
          }
         }
        }
       }
      }
     },
     "metadata": {},
     "output_type": "display_data"
    }
   ],
   "source": [
    "fig = px.scatter_mapbox(\n",
    "    data_frame=companies_df,\n",
    "    lat=\"latitude\", lon=\"longitude\",\n",
    "    # title=\"Locations of our Competitor's Warehouses\",\n",
    "    color=\"top_competitors\",\n",
    "    hover_name=\"top_competitors\",\n",
    "    hover_data={\n",
    "        \"city\": True,\n",
    "        \"state\": True,\n",
    "        \"top_competitors\": False,\n",
    "        \"latitude\": False,\n",
    "        \"longitude\": False\n",
    "    },\n",
    "    labels={\"top_competitors\": \"Our Top Competitors\"}\n",
    ")\n",
    "\n",
    "fig.update_layout(mapbox_style=\"open-street-map\", mapbox_zoom=4,\n",
    "    margin={\"r\":2,\"t\":2,\"l\":2,\"b\":2}) \n",
    "\n",
    "fig.update_traces(cluster=dict(enabled=True))\n",
    "fig"
   ]
  },
  {
   "cell_type": "code",
   "execution_count": 5,
   "metadata": {},
   "outputs": [],
   "source": [
    "fig.write_html(\"scatter_map.html\")"
   ]
  },
  {
   "cell_type": "markdown",
   "metadata": {},
   "source": [
    "### View by Company Scatter Plot"
   ]
  },
  {
   "cell_type": "code",
   "execution_count": 6,
   "metadata": {},
   "outputs": [
    {
     "data": {
      "application/vnd.plotly.v1+json": {
       "config": {
        "plotlyServerURL": "https://plot.ly"
       },
       "data": [
        {
         "cluster": {
          "enabled": true
         },
         "customdata": [
          [
           "Grove City",
           "OH",
           "Alleguard - Huntington",
           39.8821935,
           -83.0935377
          ],
          [
           "Bastrop",
           "TX",
           "Alleguard - Huntington",
           30.1104947,
           -97.3152701
          ],
          [
           "Cave Spring ",
           "GA",
           "Alleguard - Huntington",
           34.1075975,
           -85.33634339999999
          ],
          [
           "Greer",
           "SC",
           "Alleguard - Huntington",
           34.9387279,
           -82.2270568
          ],
          [
           "Greenville",
           "MI",
           "Alleguard - Huntington",
           43.1775314,
           -85.2527987
          ],
          [
           "Radford",
           "VA",
           "Alleguard - Huntington",
           37.13179239999999,
           -80.5764477
          ],
          [
           "West Brookfield",
           "MA",
           "Alleguard - Huntington",
           42.2353463,
           -72.14116419999999
          ],
          [
           "Monticello",
           "AR",
           "Alleguard - Huntington",
           33.6296702,
           -91.8021856
          ]
         ],
         "hovertemplate": "<b>%{hovertext}</b><br><br>city=%{customdata[0]}<br>state=%{customdata[1]}<extra></extra>",
         "hovertext": [
          "Alleguard - Huntington",
          "Alleguard - Huntington",
          "Alleguard - Huntington",
          "Alleguard - Huntington",
          "Alleguard - Huntington",
          "Alleguard - Huntington",
          "Alleguard - Huntington",
          "Alleguard - Huntington"
         ],
         "lat": [
          39.8821935,
          30.1104947,
          34.1075975,
          34.9387279,
          43.1775314,
          37.13179239999999,
          42.2353463,
          33.6296702
         ],
         "legendgroup": "Alleguard - Huntington",
         "lon": [
          -83.0935377,
          -97.3152701,
          -85.33634339999999,
          -82.2270568,
          -85.2527987,
          -80.5764477,
          -72.14116419999999,
          -91.8021856
         ],
         "marker": {
          "color": "#636efa"
         },
         "mode": "markers",
         "name": "Alleguard - Huntington",
         "showlegend": true,
         "subplot": "mapbox",
         "type": "scattermapbox"
        }
       ],
       "layout": {
        "legend": {
         "title": {
          "text": "Our Top Competitors"
         },
         "tracegroupgap": 0
        },
        "mapbox": {
         "center": {
          "lat": 36.9016692375,
          "lon": -84.718100525
         },
         "domain": {
          "x": [
           0,
           1
          ],
          "y": [
           0,
           1
          ]
         },
         "style": "open-street-map",
         "zoom": 8
        },
        "margin": {
         "b": 2,
         "l": 2,
         "r": 2,
         "t": 2
        },
        "template": {
         "data": {
          "bar": [
           {
            "error_x": {
             "color": "#2a3f5f"
            },
            "error_y": {
             "color": "#2a3f5f"
            },
            "marker": {
             "line": {
              "color": "#E5ECF6",
              "width": 0.5
             },
             "pattern": {
              "fillmode": "overlay",
              "size": 10,
              "solidity": 0.2
             }
            },
            "type": "bar"
           }
          ],
          "barpolar": [
           {
            "marker": {
             "line": {
              "color": "#E5ECF6",
              "width": 0.5
             },
             "pattern": {
              "fillmode": "overlay",
              "size": 10,
              "solidity": 0.2
             }
            },
            "type": "barpolar"
           }
          ],
          "carpet": [
           {
            "aaxis": {
             "endlinecolor": "#2a3f5f",
             "gridcolor": "white",
             "linecolor": "white",
             "minorgridcolor": "white",
             "startlinecolor": "#2a3f5f"
            },
            "baxis": {
             "endlinecolor": "#2a3f5f",
             "gridcolor": "white",
             "linecolor": "white",
             "minorgridcolor": "white",
             "startlinecolor": "#2a3f5f"
            },
            "type": "carpet"
           }
          ],
          "choropleth": [
           {
            "colorbar": {
             "outlinewidth": 0,
             "ticks": ""
            },
            "type": "choropleth"
           }
          ],
          "contour": [
           {
            "colorbar": {
             "outlinewidth": 0,
             "ticks": ""
            },
            "colorscale": [
             [
              0,
              "#0d0887"
             ],
             [
              0.1111111111111111,
              "#46039f"
             ],
             [
              0.2222222222222222,
              "#7201a8"
             ],
             [
              0.3333333333333333,
              "#9c179e"
             ],
             [
              0.4444444444444444,
              "#bd3786"
             ],
             [
              0.5555555555555556,
              "#d8576b"
             ],
             [
              0.6666666666666666,
              "#ed7953"
             ],
             [
              0.7777777777777778,
              "#fb9f3a"
             ],
             [
              0.8888888888888888,
              "#fdca26"
             ],
             [
              1,
              "#f0f921"
             ]
            ],
            "type": "contour"
           }
          ],
          "contourcarpet": [
           {
            "colorbar": {
             "outlinewidth": 0,
             "ticks": ""
            },
            "type": "contourcarpet"
           }
          ],
          "heatmap": [
           {
            "colorbar": {
             "outlinewidth": 0,
             "ticks": ""
            },
            "colorscale": [
             [
              0,
              "#0d0887"
             ],
             [
              0.1111111111111111,
              "#46039f"
             ],
             [
              0.2222222222222222,
              "#7201a8"
             ],
             [
              0.3333333333333333,
              "#9c179e"
             ],
             [
              0.4444444444444444,
              "#bd3786"
             ],
             [
              0.5555555555555556,
              "#d8576b"
             ],
             [
              0.6666666666666666,
              "#ed7953"
             ],
             [
              0.7777777777777778,
              "#fb9f3a"
             ],
             [
              0.8888888888888888,
              "#fdca26"
             ],
             [
              1,
              "#f0f921"
             ]
            ],
            "type": "heatmap"
           }
          ],
          "heatmapgl": [
           {
            "colorbar": {
             "outlinewidth": 0,
             "ticks": ""
            },
            "colorscale": [
             [
              0,
              "#0d0887"
             ],
             [
              0.1111111111111111,
              "#46039f"
             ],
             [
              0.2222222222222222,
              "#7201a8"
             ],
             [
              0.3333333333333333,
              "#9c179e"
             ],
             [
              0.4444444444444444,
              "#bd3786"
             ],
             [
              0.5555555555555556,
              "#d8576b"
             ],
             [
              0.6666666666666666,
              "#ed7953"
             ],
             [
              0.7777777777777778,
              "#fb9f3a"
             ],
             [
              0.8888888888888888,
              "#fdca26"
             ],
             [
              1,
              "#f0f921"
             ]
            ],
            "type": "heatmapgl"
           }
          ],
          "histogram": [
           {
            "marker": {
             "pattern": {
              "fillmode": "overlay",
              "size": 10,
              "solidity": 0.2
             }
            },
            "type": "histogram"
           }
          ],
          "histogram2d": [
           {
            "colorbar": {
             "outlinewidth": 0,
             "ticks": ""
            },
            "colorscale": [
             [
              0,
              "#0d0887"
             ],
             [
              0.1111111111111111,
              "#46039f"
             ],
             [
              0.2222222222222222,
              "#7201a8"
             ],
             [
              0.3333333333333333,
              "#9c179e"
             ],
             [
              0.4444444444444444,
              "#bd3786"
             ],
             [
              0.5555555555555556,
              "#d8576b"
             ],
             [
              0.6666666666666666,
              "#ed7953"
             ],
             [
              0.7777777777777778,
              "#fb9f3a"
             ],
             [
              0.8888888888888888,
              "#fdca26"
             ],
             [
              1,
              "#f0f921"
             ]
            ],
            "type": "histogram2d"
           }
          ],
          "histogram2dcontour": [
           {
            "colorbar": {
             "outlinewidth": 0,
             "ticks": ""
            },
            "colorscale": [
             [
              0,
              "#0d0887"
             ],
             [
              0.1111111111111111,
              "#46039f"
             ],
             [
              0.2222222222222222,
              "#7201a8"
             ],
             [
              0.3333333333333333,
              "#9c179e"
             ],
             [
              0.4444444444444444,
              "#bd3786"
             ],
             [
              0.5555555555555556,
              "#d8576b"
             ],
             [
              0.6666666666666666,
              "#ed7953"
             ],
             [
              0.7777777777777778,
              "#fb9f3a"
             ],
             [
              0.8888888888888888,
              "#fdca26"
             ],
             [
              1,
              "#f0f921"
             ]
            ],
            "type": "histogram2dcontour"
           }
          ],
          "mesh3d": [
           {
            "colorbar": {
             "outlinewidth": 0,
             "ticks": ""
            },
            "type": "mesh3d"
           }
          ],
          "parcoords": [
           {
            "line": {
             "colorbar": {
              "outlinewidth": 0,
              "ticks": ""
             }
            },
            "type": "parcoords"
           }
          ],
          "pie": [
           {
            "automargin": true,
            "type": "pie"
           }
          ],
          "scatter": [
           {
            "fillpattern": {
             "fillmode": "overlay",
             "size": 10,
             "solidity": 0.2
            },
            "type": "scatter"
           }
          ],
          "scatter3d": [
           {
            "line": {
             "colorbar": {
              "outlinewidth": 0,
              "ticks": ""
             }
            },
            "marker": {
             "colorbar": {
              "outlinewidth": 0,
              "ticks": ""
             }
            },
            "type": "scatter3d"
           }
          ],
          "scattercarpet": [
           {
            "marker": {
             "colorbar": {
              "outlinewidth": 0,
              "ticks": ""
             }
            },
            "type": "scattercarpet"
           }
          ],
          "scattergeo": [
           {
            "marker": {
             "colorbar": {
              "outlinewidth": 0,
              "ticks": ""
             }
            },
            "type": "scattergeo"
           }
          ],
          "scattergl": [
           {
            "marker": {
             "colorbar": {
              "outlinewidth": 0,
              "ticks": ""
             }
            },
            "type": "scattergl"
           }
          ],
          "scattermapbox": [
           {
            "marker": {
             "colorbar": {
              "outlinewidth": 0,
              "ticks": ""
             }
            },
            "type": "scattermapbox"
           }
          ],
          "scatterpolar": [
           {
            "marker": {
             "colorbar": {
              "outlinewidth": 0,
              "ticks": ""
             }
            },
            "type": "scatterpolar"
           }
          ],
          "scatterpolargl": [
           {
            "marker": {
             "colorbar": {
              "outlinewidth": 0,
              "ticks": ""
             }
            },
            "type": "scatterpolargl"
           }
          ],
          "scatterternary": [
           {
            "marker": {
             "colorbar": {
              "outlinewidth": 0,
              "ticks": ""
             }
            },
            "type": "scatterternary"
           }
          ],
          "surface": [
           {
            "colorbar": {
             "outlinewidth": 0,
             "ticks": ""
            },
            "colorscale": [
             [
              0,
              "#0d0887"
             ],
             [
              0.1111111111111111,
              "#46039f"
             ],
             [
              0.2222222222222222,
              "#7201a8"
             ],
             [
              0.3333333333333333,
              "#9c179e"
             ],
             [
              0.4444444444444444,
              "#bd3786"
             ],
             [
              0.5555555555555556,
              "#d8576b"
             ],
             [
              0.6666666666666666,
              "#ed7953"
             ],
             [
              0.7777777777777778,
              "#fb9f3a"
             ],
             [
              0.8888888888888888,
              "#fdca26"
             ],
             [
              1,
              "#f0f921"
             ]
            ],
            "type": "surface"
           }
          ],
          "table": [
           {
            "cells": {
             "fill": {
              "color": "#EBF0F8"
             },
             "line": {
              "color": "white"
             }
            },
            "header": {
             "fill": {
              "color": "#C8D4E3"
             },
             "line": {
              "color": "white"
             }
            },
            "type": "table"
           }
          ]
         },
         "layout": {
          "annotationdefaults": {
           "arrowcolor": "#2a3f5f",
           "arrowhead": 0,
           "arrowwidth": 1
          },
          "autotypenumbers": "strict",
          "coloraxis": {
           "colorbar": {
            "outlinewidth": 0,
            "ticks": ""
           }
          },
          "colorscale": {
           "diverging": [
            [
             0,
             "#8e0152"
            ],
            [
             0.1,
             "#c51b7d"
            ],
            [
             0.2,
             "#de77ae"
            ],
            [
             0.3,
             "#f1b6da"
            ],
            [
             0.4,
             "#fde0ef"
            ],
            [
             0.5,
             "#f7f7f7"
            ],
            [
             0.6,
             "#e6f5d0"
            ],
            [
             0.7,
             "#b8e186"
            ],
            [
             0.8,
             "#7fbc41"
            ],
            [
             0.9,
             "#4d9221"
            ],
            [
             1,
             "#276419"
            ]
           ],
           "sequential": [
            [
             0,
             "#0d0887"
            ],
            [
             0.1111111111111111,
             "#46039f"
            ],
            [
             0.2222222222222222,
             "#7201a8"
            ],
            [
             0.3333333333333333,
             "#9c179e"
            ],
            [
             0.4444444444444444,
             "#bd3786"
            ],
            [
             0.5555555555555556,
             "#d8576b"
            ],
            [
             0.6666666666666666,
             "#ed7953"
            ],
            [
             0.7777777777777778,
             "#fb9f3a"
            ],
            [
             0.8888888888888888,
             "#fdca26"
            ],
            [
             1,
             "#f0f921"
            ]
           ],
           "sequentialminus": [
            [
             0,
             "#0d0887"
            ],
            [
             0.1111111111111111,
             "#46039f"
            ],
            [
             0.2222222222222222,
             "#7201a8"
            ],
            [
             0.3333333333333333,
             "#9c179e"
            ],
            [
             0.4444444444444444,
             "#bd3786"
            ],
            [
             0.5555555555555556,
             "#d8576b"
            ],
            [
             0.6666666666666666,
             "#ed7953"
            ],
            [
             0.7777777777777778,
             "#fb9f3a"
            ],
            [
             0.8888888888888888,
             "#fdca26"
            ],
            [
             1,
             "#f0f921"
            ]
           ]
          },
          "colorway": [
           "#636efa",
           "#EF553B",
           "#00cc96",
           "#ab63fa",
           "#FFA15A",
           "#19d3f3",
           "#FF6692",
           "#B6E880",
           "#FF97FF",
           "#FECB52"
          ],
          "font": {
           "color": "#2a3f5f"
          },
          "geo": {
           "bgcolor": "white",
           "lakecolor": "white",
           "landcolor": "#E5ECF6",
           "showlakes": true,
           "showland": true,
           "subunitcolor": "white"
          },
          "hoverlabel": {
           "align": "left"
          },
          "hovermode": "closest",
          "mapbox": {
           "style": "light"
          },
          "paper_bgcolor": "white",
          "plot_bgcolor": "#E5ECF6",
          "polar": {
           "angularaxis": {
            "gridcolor": "white",
            "linecolor": "white",
            "ticks": ""
           },
           "bgcolor": "#E5ECF6",
           "radialaxis": {
            "gridcolor": "white",
            "linecolor": "white",
            "ticks": ""
           }
          },
          "scene": {
           "xaxis": {
            "backgroundcolor": "#E5ECF6",
            "gridcolor": "white",
            "gridwidth": 2,
            "linecolor": "white",
            "showbackground": true,
            "ticks": "",
            "zerolinecolor": "white"
           },
           "yaxis": {
            "backgroundcolor": "#E5ECF6",
            "gridcolor": "white",
            "gridwidth": 2,
            "linecolor": "white",
            "showbackground": true,
            "ticks": "",
            "zerolinecolor": "white"
           },
           "zaxis": {
            "backgroundcolor": "#E5ECF6",
            "gridcolor": "white",
            "gridwidth": 2,
            "linecolor": "white",
            "showbackground": true,
            "ticks": "",
            "zerolinecolor": "white"
           }
          },
          "shapedefaults": {
           "line": {
            "color": "#2a3f5f"
           }
          },
          "ternary": {
           "aaxis": {
            "gridcolor": "white",
            "linecolor": "white",
            "ticks": ""
           },
           "baxis": {
            "gridcolor": "white",
            "linecolor": "white",
            "ticks": ""
           },
           "bgcolor": "#E5ECF6",
           "caxis": {
            "gridcolor": "white",
            "linecolor": "white",
            "ticks": ""
           }
          },
          "title": {
           "x": 0.05
          },
          "xaxis": {
           "automargin": true,
           "gridcolor": "white",
           "linecolor": "white",
           "ticks": "",
           "title": {
            "standoff": 15
           },
           "zerolinecolor": "white",
           "zerolinewidth": 2
          },
          "yaxis": {
           "automargin": true,
           "gridcolor": "white",
           "linecolor": "white",
           "ticks": "",
           "title": {
            "standoff": 15
           },
           "zerolinecolor": "white",
           "zerolinewidth": 2
          }
         }
        }
       }
      }
     },
     "metadata": {},
     "output_type": "display_data"
    }
   ],
   "source": [
    "fig = px.scatter_mapbox(\n",
    "    data_frame=companies_df.query(f\"top_competitors == 'Alleguard - Huntington'\"),\n",
    "    lat=\"latitude\", lon=\"longitude\",\n",
    "    # title=\"Locations of our Competitor's Warehouses\",\n",
    "    color=\"top_competitors\",\n",
    "    hover_name=\"top_competitors\",\n",
    "    hover_data={\n",
    "        \"city\": True,\n",
    "        \"state\": True,\n",
    "        \"top_competitors\": False,\n",
    "        \"latitude\": False,\n",
    "        \"longitude\": False\n",
    "    },\n",
    "    labels={\"top_competitors\": \"Our Top Competitors\"}\n",
    ")\n",
    "\n",
    "fig.update_layout(mapbox_style=\"open-street-map\",\n",
    "    margin={\"r\":2,\"t\":2,\"l\":2,\"b\":2}) \n",
    "\n",
    "fig.update_traces(cluster=dict(enabled=True))\n",
    "fig"
   ]
  },
  {
   "cell_type": "markdown",
   "metadata": {},
   "source": [
    "## Visuals for All Companies\n",
    "### Creating using plotly.graph_objects"
   ]
  },
  {
   "cell_type": "code",
   "execution_count": 7,
   "metadata": {},
   "outputs": [
    {
     "data": {
      "text/html": [
       "<div>\n",
       "<style scoped>\n",
       "    .dataframe tbody tr th:only-of-type {\n",
       "        vertical-align: middle;\n",
       "    }\n",
       "\n",
       "    .dataframe tbody tr th {\n",
       "        vertical-align: top;\n",
       "    }\n",
       "\n",
       "    .dataframe thead th {\n",
       "        text-align: right;\n",
       "    }\n",
       "</style>\n",
       "<table border=\"1\" class=\"dataframe\">\n",
       "  <thead>\n",
       "    <tr style=\"text-align: right;\">\n",
       "      <th></th>\n",
       "      <th>company</th>\n",
       "      <th>location</th>\n",
       "      <th>latitude</th>\n",
       "      <th>longitude</th>\n",
       "    </tr>\n",
       "  </thead>\n",
       "  <tbody>\n",
       "    <tr>\n",
       "      <th>0</th>\n",
       "      <td>Altor Solutions</td>\n",
       "      <td>Northbridge, Massachusetts</td>\n",
       "      <td>42.151400</td>\n",
       "      <td>-71.650000</td>\n",
       "    </tr>\n",
       "    <tr>\n",
       "      <th>1</th>\n",
       "      <td>Altor Solutions</td>\n",
       "      <td>Bloomsburg, Pennsylvania</td>\n",
       "      <td>41.002500</td>\n",
       "      <td>-76.458100</td>\n",
       "    </tr>\n",
       "    <tr>\n",
       "      <th>2</th>\n",
       "      <td>Altor Solutions</td>\n",
       "      <td>Anderson, South Carolina</td>\n",
       "      <td>34.504900</td>\n",
       "      <td>-82.652400</td>\n",
       "    </tr>\n",
       "    <tr>\n",
       "      <th>3</th>\n",
       "      <td>Altor Solutions</td>\n",
       "      <td>Jefferson, Georgia</td>\n",
       "      <td>34.126700</td>\n",
       "      <td>-83.590300</td>\n",
       "    </tr>\n",
       "    <tr>\n",
       "      <th>4</th>\n",
       "      <td>Altor Solutions</td>\n",
       "      <td>Gnadenhutten, Ohio</td>\n",
       "      <td>40.360800</td>\n",
       "      <td>-81.431700</td>\n",
       "    </tr>\n",
       "    <tr>\n",
       "      <th>...</th>\n",
       "      <td>...</td>\n",
       "      <td>...</td>\n",
       "      <td>...</td>\n",
       "      <td>...</td>\n",
       "    </tr>\n",
       "    <tr>\n",
       "      <th>98</th>\n",
       "      <td>Alleguard - Huntington</td>\n",
       "      <td>Radford, VA</td>\n",
       "      <td>37.131792</td>\n",
       "      <td>-80.576448</td>\n",
       "    </tr>\n",
       "    <tr>\n",
       "      <th>99</th>\n",
       "      <td>Alleguard - Huntington</td>\n",
       "      <td>West Brookfield, MA</td>\n",
       "      <td>42.235346</td>\n",
       "      <td>-72.141164</td>\n",
       "    </tr>\n",
       "    <tr>\n",
       "      <th>100</th>\n",
       "      <td>Alleguard - Huntington</td>\n",
       "      <td>Monticello, AR</td>\n",
       "      <td>33.629670</td>\n",
       "      <td>-91.802186</td>\n",
       "    </tr>\n",
       "    <tr>\n",
       "      <th>101</th>\n",
       "      <td>Armstrong Brands</td>\n",
       "      <td>Buffalo, NY</td>\n",
       "      <td>42.886447</td>\n",
       "      <td>-78.878369</td>\n",
       "    </tr>\n",
       "    <tr>\n",
       "      <th>102</th>\n",
       "      <td>EFP</td>\n",
       "      <td>Elkhart, IN</td>\n",
       "      <td>41.687383</td>\n",
       "      <td>-85.973517</td>\n",
       "    </tr>\n",
       "  </tbody>\n",
       "</table>\n",
       "<p>103 rows × 4 columns</p>\n",
       "</div>"
      ],
      "text/plain": [
       "                    company                    location   latitude  longitude\n",
       "0           Altor Solutions  Northbridge, Massachusetts  42.151400 -71.650000\n",
       "1           Altor Solutions    Bloomsburg, Pennsylvania  41.002500 -76.458100\n",
       "2           Altor Solutions    Anderson, South Carolina  34.504900 -82.652400\n",
       "3           Altor Solutions          Jefferson, Georgia  34.126700 -83.590300\n",
       "4           Altor Solutions          Gnadenhutten, Ohio  40.360800 -81.431700\n",
       "..                      ...                         ...        ...        ...\n",
       "98   Alleguard - Huntington                 Radford, VA  37.131792 -80.576448\n",
       "99   Alleguard - Huntington         West Brookfield, MA  42.235346 -72.141164\n",
       "100  Alleguard - Huntington              Monticello, AR  33.629670 -91.802186\n",
       "101        Armstrong Brands                 Buffalo, NY  42.886447 -78.878369\n",
       "102                     EFP                 Elkhart, IN  41.687383 -85.973517\n",
       "\n",
       "[103 rows x 4 columns]"
      ]
     },
     "execution_count": 7,
     "metadata": {},
     "output_type": "execute_result"
    }
   ],
   "source": [
    "import plotly.graph_objects as go\n",
    "import pandas as pd\n",
    "\n",
    "df = pd.read_csv(\"companies_locations.csv\")\n",
    "df\n"
   ]
  },
  {
   "cell_type": "code",
   "execution_count": 12,
   "metadata": {},
   "outputs": [
    {
     "data": {
      "text/plain": [
       "0      Altor Solutions<br>Warehouse Location: Northbr...\n",
       "1      Altor Solutions<br>Warehouse Location: Bloomsb...\n",
       "2      Altor Solutions<br>Warehouse Location: Anderso...\n",
       "3      Altor Solutions<br>Warehouse Location: Jeffers...\n",
       "4      Altor Solutions<br>Warehouse Location: Gnadenh...\n",
       "                             ...                        \n",
       "98     Alleguard - Huntington<br>Warehouse Location: ...\n",
       "99     Alleguard - Huntington<br>Warehouse Location: ...\n",
       "100    Alleguard - Huntington<br>Warehouse Location: ...\n",
       "101    Armstrong Brands<br>Warehouse Location: Buffal...\n",
       "102               EFP<br>Warehouse Location: Elkhart, IN\n",
       "Name: text, Length: 103, dtype: object"
      ]
     },
     "execution_count": 12,
     "metadata": {},
     "output_type": "execute_result"
    }
   ],
   "source": [
    "df['text'] = df['company'] + \"<br>\" +  \"Warehouse Location: \" + df['location']\n",
    "\n",
    "df['text']"
   ]
  },
  {
   "cell_type": "code",
   "execution_count": 14,
   "metadata": {},
   "outputs": [],
   "source": [
    "df.to_csv(\"companies_locations.csv\", index=False)"
   ]
  },
  {
   "cell_type": "code",
   "execution_count": 15,
   "metadata": {},
   "outputs": [
    {
     "data": {
      "application/vnd.plotly.v1+json": {
       "config": {
        "plotlyServerURL": "https://plot.ly"
       },
       "data": [
        {
         "lat": [
          42.1514,
          41.0025,
          34.5049,
          34.1267,
          40.3608,
          38.3019,
          35.6144,
          43.7492,
          40.6286,
          37.8708,
          32.9275,
          37.6614,
          33.8967
         ],
         "locationmode": "USA-states",
         "lon": [
          -71.65,
          -76.4581,
          -82.6524,
          -83.5903,
          -81.4317,
          -85.8214,
          -88.8178,
          -87.9767,
          -91.3389,
          -94.0211,
          -97.2361,
          -120.9944,
          -118.225
         ],
         "marker": {
          "size": 15,
          "symbol": 6
         },
         "mode": "markers",
         "name": "Altor Solutions",
         "text": [
          "Altor Solutions<br>Warehouse Location: Northbridge, Massachusetts",
          "Altor Solutions<br>Warehouse Location: Bloomsburg, Pennsylvania",
          "Altor Solutions<br>Warehouse Location: Anderson, South Carolina",
          "Altor Solutions<br>Warehouse Location: Jefferson, Georgia",
          "Altor Solutions<br>Warehouse Location: Gnadenhutten, Ohio",
          "Altor Solutions<br>Warehouse Location: New Albany, Indiana",
          "Altor Solutions<br>Warehouse Location: Jackson, Tennessee",
          "Altor Solutions<br>Warehouse Location: Plymouth, Wisconsin",
          "Altor Solutions<br>Warehouse Location: Fort Madison, Iowa",
          "Altor Solutions<br>Warehouse Location: El Dorado Springs, Missouri",
          "Altor Solutions<br>Warehouse Location: Keller, Texas",
          "Altor Solutions<br>Warehouse Location: Modesto, California",
          "Altor Solutions<br>Warehouse Location: Compton, California"
         ],
         "type": "scattergeo"
        },
        {
         "lat": [
          39.8821935,
          30.1104947,
          34.1075975,
          34.9387279,
          43.1775314,
          37.13179239999999,
          42.2353463,
          33.6296702
         ],
         "locationmode": "USA-states",
         "lon": [
          -83.0935377,
          -97.3152701,
          -85.33634339999999,
          -82.2270568,
          -85.2527987,
          -80.5764477,
          -72.14116419999999,
          -91.8021856
         ],
         "marker": {
          "size": 15,
          "symbol": 6
         },
         "mode": "markers",
         "name": "Alleguard - Huntington",
         "text": [
          "Alleguard - Huntington<br>Warehouse Location: Grove City, OH",
          "Alleguard - Huntington<br>Warehouse Location: Bastrop, TX",
          "Alleguard - Huntington<br>Warehouse Location: Cave Spring , GA",
          "Alleguard - Huntington<br>Warehouse Location: Greer, SC",
          "Alleguard - Huntington<br>Warehouse Location: Greenville, MI",
          "Alleguard - Huntington<br>Warehouse Location: Radford, VA",
          "Alleguard - Huntington<br>Warehouse Location: West Brookfield, MA",
          "Alleguard - Huntington<br>Warehouse Location: Monticello, AR"
         ],
         "type": "scattergeo"
        },
        {
         "lat": [
          39.5500485,
          35.4603711,
          33.6676103,
          34.2978794,
          28.5383832,
          38.3031837,
          39.1856597
         ],
         "locationmode": "USA-states",
         "lon": [
          -86.0797079,
          -94.7874463,
          -84.01769039999999,
          -83.8240663,
          -81.3789269,
          -77.4605399,
          -78.1633341
         ],
         "marker": {
          "size": 15,
          "symbol": 6
         },
         "mode": "markers",
         "name": "Cellofoam",
         "text": [
          "Cellofoam<br>Warehouse Location: Whiteland, IN",
          "Cellofoam<br>Warehouse Location: Sallisaw, OK",
          "Cellofoam<br>Warehouse Location: Conyers, GA",
          "Cellofoam<br>Warehouse Location: Gainesville, GA",
          "Cellofoam<br>Warehouse Location: Orlando, FL",
          "Cellofoam<br>Warehouse Location: Fredericksburg, VA",
          "Cellofoam<br>Warehouse Location: Winchester, VA"
         ],
         "type": "scattergeo"
        },
        {
         "lat": [
          35.3789361
         ],
         "locationmode": "USA-states",
         "lon": [
          -81.3795737
         ],
         "marker": {
          "size": 15,
          "symbol": 6
         },
         "mode": "markers",
         "name": "Modern Polymers",
         "text": [
          "Modern Polymers<br>Warehouse Location: Cherryville, NC"
         ],
         "type": "scattergeo"
        },
        {
         "lat": [
          39.529919,
          32.9110027,
          37.9715592,
          36.0156178,
          34.6059253,
          34.2182107,
          41.6873832
         ],
         "locationmode": "USA-states",
         "lon": [
          -119.8142691,
          -111.7733902,
          -87.5710898,
          -86.5819394,
          -86.9833417,
          -80.2484056,
          -85.973517
         ],
         "marker": {
          "size": 15,
          "symbol": 6
         },
         "mode": "markers",
         "name": "EFP",
         "text": [
          "EFP<br>Warehouse Location: Reno, NV",
          "EFP<br>Warehouse Location: Casa Granda, AZ",
          "EFP<br>Warehouse Location: Evansville, IN",
          "EFP<br>Warehouse Location: La vergne, TN",
          "EFP<br>Warehouse Location: Decatur, AL",
          "EFP<br>Warehouse Location: Bishopville, SC",
          "EFP<br>Warehouse Location: Elkhart, IN"
         ],
         "type": "scattergeo"
        },
        {
         "lat": [
          35.6780104
         ],
         "locationmode": "USA-states",
         "lon": [
          -119.2292748
         ],
         "marker": {
          "size": 15,
          "symbol": 6
         },
         "mode": "markers",
         "name": "Aptco",
         "text": [
          "Aptco<br>Warehouse Location: McFarland, CA"
         ],
         "type": "scattergeo"
        },
        {
         "lat": [
          36.3301329
         ],
         "locationmode": "USA-states",
         "lon": [
          -119.2966367
         ],
         "marker": {
          "size": 15,
          "symbol": 6
         },
         "mode": "markers",
         "name": "Tempo Precision Molded Foam",
         "text": [
          "Tempo Precision Molded Foam<br>Warehouse Location: Visalia, CA"
         ],
         "type": "scattergeo"
        },
        {
         "lat": [
          33.1983388,
          39.8366528
         ],
         "locationmode": "USA-states",
         "lon": [
          -96.6389342,
          -105.0372046
         ],
         "marker": {
          "size": 15,
          "symbol": 6
         },
         "mode": "markers",
         "name": "ACH Foam Technologies",
         "text": [
          "ACH Foam Technologies<br>Warehouse Location: McKinney, TX",
          "ACH Foam Technologies<br>Warehouse Location: Westminster, CO"
         ],
         "type": "scattergeo"
        },
        {
         "lat": [
          34.2994874,
          39.7392358,
          40.6668916,
          39.529919,
          35.189443,
          32.735687,
          42.8122508,
          43.7730448,
          37.55977540000001,
          39.11553139999999,
          37.7242202,
          41.30140770000001,
          34.2978794
         ],
         "locationmode": "USA-states",
         "lon": [
          -118.4588292,
          -104.990251,
          -111.8879909,
          -119.8142691,
          -114.0530065,
          -97.1080656,
          -85.7228061,
          -88.4470508,
          -90.2940069,
          -94.6267873,
          -89.8612196,
          -91.6916417,
          -83.8240663
         ],
         "marker": {
          "size": 15,
          "symbol": 6
         },
         "mode": "markers",
         "name": "Atlas Molded Products",
         "text": [
          "Atlas Molded Products<br>Warehouse Location: Sylmar, CA",
          "Atlas Molded Products<br>Warehouse Location: Denver, CO",
          "Atlas Molded Products<br>Warehouse Location: Murray, UT",
          "Atlas Molded Products<br>Warehouse Location: Reno, NV",
          "Atlas Molded Products<br>Warehouse Location: Kingman, AZ",
          "Atlas Molded Products<br>Warehouse Location: E Arlington, TX",
          "Atlas Molded Products<br>Warehouse Location: Byron Center, MI",
          "Atlas Molded Products<br>Warehouse Location: Fond du Lac, WI",
          "Atlas Molded Products<br>Warehouse Location: Fredericktown, MO",
          "Atlas Molded Products<br>Warehouse Location: Kansas City, KS",
          "Atlas Molded Products<br>Warehouse Location: Perryville, MO",
          "Atlas Molded Products<br>Warehouse Location: Washington, IA",
          "Atlas Molded Products<br>Warehouse Location: Gainesville, GA"
         ],
         "type": "scattergeo"
        },
        {
         "lat": [
          36.5768046,
          41.0391283,
          42.9978049,
          35.3620235,
          35.5342414,
          38.2120144,
          38.8338816
         ],
         "locationmode": "USA-states",
         "lon": [
          -79.8583721,
          -83.6502309,
          -84.1766358,
          -86.20943419999999,
          -87.20695409999999,
          -85.2235666,
          -104.8213634
         ],
         "marker": {
          "size": 15,
          "symbol": 6
         },
         "mode": "markers",
         "name": "Sonoco",
         "text": [
          "Sonoco<br>Warehouse Location: Ridgeway, VA",
          "Sonoco<br>Warehouse Location: Findlay, OH",
          "Sonoco<br>Warehouse Location: Owosso, MI",
          "Sonoco<br>Warehouse Location: Tullahoma, TN",
          "Sonoco<br>Warehouse Location: Mt. Pleasant, TN",
          "Sonoco<br>Warehouse Location: Shelbyville, KY",
          "Sonoco<br>Warehouse Location: Colorado Springs, CO"
         ],
         "type": "scattergeo"
        },
        {
         "lat": [
          35.6780104
         ],
         "locationmode": "USA-states",
         "lon": [
          -119.2292748
         ],
         "marker": {
          "size": 15,
          "symbol": 6
         },
         "mode": "markers",
         "name": "Cold Keepers",
         "text": [
          "Cold Keepers<br>Warehouse Location: Mcfarland, CA"
         ],
         "type": "scattergeo"
        },
        {
         "lat": [
          30.8365815
         ],
         "locationmode": "USA-states",
         "lon": [
          -83.9787808
         ],
         "marker": {
          "size": 15,
          "symbol": 6
         },
         "mode": "markers",
         "name": "Styrotech",
         "text": [
          "Styrotech<br>Warehouse Location: Thomasville, GA"
         ],
         "type": "scattergeo"
        },
        {
         "lat": [
          45.0941315
         ],
         "locationmode": "USA-states",
         "lon": [
          -93.3563405
         ],
         "marker": {
          "size": 15,
          "symbol": 6
         },
         "mode": "markers",
         "name": "OpCO",
         "text": [
          "OpCO<br>Warehouse Location: Brooklyn Park, MN"
         ],
         "type": "scattergeo"
        },
        {
         "lat": [
          40.3211808
         ],
         "locationmode": "USA-states",
         "lon": [
          -79.37948109999999
         ],
         "marker": {
          "size": 15,
          "symbol": 6
         },
         "mode": "markers",
         "name": "Plastillite",
         "text": [
          "Plastillite<br>Warehouse Location: Latrobe, PA"
         ],
         "type": "scattergeo"
        },
        {
         "lat": [
          41.2565369,
          29.7600771
         ],
         "locationmode": "USA-states",
         "lon": [
          -95.9345034,
          -95.3701108
         ],
         "marker": {
          "size": 15,
          "symbol": 6
         },
         "mode": "markers",
         "name": "Houston Foam Plastics",
         "text": [
          "Houston Foam Plastics<br>Warehouse Location: Omaha, NE",
          "Houston Foam Plastics<br>Warehouse Location: Houston, TX"
         ],
         "type": "scattergeo"
        },
        {
         "lat": [
          29.4251905
         ],
         "locationmode": "USA-states",
         "lon": [
          -98.4945922
         ],
         "marker": {
          "size": 15,
          "symbol": 6
         },
         "mode": "markers",
         "name": "Imperial Foam & Insulation",
         "text": [
          "Imperial Foam & Insulation<br>Warehouse Location: San Antonio, TX"
         ],
         "type": "scattergeo"
        },
        {
         "lat": [
          29.2858129,
          33.6594835
         ],
         "locationmode": "USA-states",
         "lon": [
          -81.0558894,
          -117.9988026
         ],
         "marker": {
          "size": 15,
          "symbol": 6
         },
         "mode": "markers",
         "name": "Marko Foam",
         "text": [
          "Marko Foam<br>Warehouse Location: Ormond Beach, FL",
          "Marko Foam<br>Warehouse Location: Huntington Beach, CA"
         ],
         "type": "scattergeo"
        },
        {
         "lat": [
          40.7607793
         ],
         "locationmode": "USA-states",
         "lon": [
          -111.8910474
         ],
         "marker": {
          "size": 15,
          "symbol": 6
         },
         "mode": "markers",
         "name": "Michigan Foam",
         "text": [
          "Michigan Foam<br>Warehouse Location: Salt Lake City , UT"
         ],
         "type": "scattergeo"
        },
        {
         "lat": [
          42.9133602
         ],
         "locationmode": "USA-states",
         "lon": [
          -85.7053085
         ],
         "marker": {
          "size": 15,
          "symbol": 6
         },
         "mode": "markers",
         "name": "Pal Pac",
         "text": [
          "Pal Pac<br>Warehouse Location: Wyoming, MI"
         ],
         "type": "scattergeo"
        },
        {
         "lat": [
          41.0192185
         ],
         "locationmode": "USA-states",
         "lon": [
          -84.0471666
         ],
         "marker": {
          "size": 15,
          "symbol": 6
         },
         "mode": "markers",
         "name": "Branch River Plastics",
         "text": [
          "Branch River Plastics<br>Warehouse Location: Ottawa, OH"
         ],
         "type": "scattergeo"
        },
        {
         "lat": [
          41.9220496
         ],
         "locationmode": "USA-states",
         "lon": [
          -71.54951009999999
         ],
         "marker": {
          "size": 15,
          "symbol": 6
         },
         "mode": "markers",
         "name": "FMI-EPS",
         "text": [
          "FMI-EPS<br>Warehouse Location: Smithfield, RI"
         ],
         "type": "scattergeo"
        },
        {
         "lat": [
          47.7179578
         ],
         "locationmode": "USA-states",
         "lon": [
          -116.9515856
         ],
         "marker": {
          "size": 15,
          "symbol": 6
         },
         "mode": "markers",
         "name": "Polar Central",
         "text": [
          "Polar Central<br>Warehouse Location: Post Falls, ID"
         ],
         "type": "scattergeo"
        },
        {
         "lat": [
          41.5023192
         ],
         "locationmode": "USA-states",
         "lon": [
          -72.9787163
         ],
         "marker": {
          "size": 15,
          "symbol": 6
         },
         "mode": "markers",
         "name": "Mister Packaging",
         "text": [
          "Mister Packaging<br>Warehouse Location: Prospect, CT"
         ],
         "type": "scattergeo"
        },
        {
         "lat": [
          33.8365932
         ],
         "locationmode": "USA-states",
         "lon": [
          -117.9143012
         ],
         "marker": {
          "size": 15,
          "symbol": 6
         },
         "mode": "markers",
         "name": "ThermaFoam",
         "text": [
          "ThermaFoam<br>Warehouse Location: Anaheim, CA"
         ],
         "type": "scattergeo"
        },
        {
         "lat": [
          32.0109886
         ],
         "locationmode": "USA-states",
         "lon": [
          -97.1300061
         ],
         "marker": {
          "size": 15,
          "symbol": 6
         },
         "mode": "markers",
         "name": "Robin II",
         "text": [
          "Robin II<br>Warehouse Location: Hillsboro, TX"
         ],
         "type": "scattergeo"
        },
        {
         "lat": [
          43.7072047
         ],
         "locationmode": "USA-states",
         "lon": [
          -88.9901122
         ],
         "marker": {
          "size": 15,
          "symbol": 6
         },
         "mode": "markers",
         "name": "Foam Pack Industries",
         "text": [
          "Foam Pack Industries<br>Warehouse Location: Markesan, WI"
         ],
         "type": "scattergeo"
        },
        {
         "lat": [
          40.7016937
         ],
         "locationmode": "USA-states",
         "lon": [
          -74.3222146
         ],
         "marker": {
          "size": 15,
          "symbol": 6
         },
         "mode": "markers",
         "name": "Clyde Tool & Die",
         "text": [
          "Clyde Tool & Die<br>Warehouse Location: Springfield, NJ"
         ],
         "type": "scattergeo"
        },
        {
         "lat": [
          41.30422009999999
         ],
         "locationmode": "USA-states",
         "lon": [
          -82.975192
         ],
         "marker": {
          "size": 15,
          "symbol": 6
         },
         "mode": "markers",
         "name": "DiversiFoam Products",
         "text": [
          "DiversiFoam Products<br>Warehouse Location: Clyde, OH"
         ],
         "type": "scattergeo"
        },
        {
         "lat": [
          45.0872861
         ],
         "locationmode": "USA-states",
         "lon": [
          -93.7415093
         ],
         "marker": {
          "size": 15,
          "symbol": 6
         },
         "mode": "markers",
         "name": "Beaver Plastics",
         "text": [
          "Beaver Plastics<br>Warehouse Location: Rockford, MN"
         ],
         "type": "scattergeo"
        },
        {
         "lat": [
          44.8994088
         ],
         "locationmode": "USA-states",
         "lon": [
          -97.1150732
         ],
         "marker": {
          "size": 15,
          "symbol": 6
         },
         "mode": "markers",
         "name": "Aqua-Pak Industries Ltd",
         "text": [
          "Aqua-Pak Industries Ltd<br>Warehouse Location: Watertown, SD"
         ],
         "type": "scattergeo"
        },
        {
         "lat": [
          38.2120144,
          39.4863773,
          32.2617127,
          41.8781136,
          32.7554883
         ],
         "locationmode": "USA-states",
         "lon": [
          -85.2235666,
          -75.02596369999999,
          -83.7365798,
          -87.6297982,
          -97.3307658
         ],
         "marker": {
          "size": 15,
          "symbol": 6
         },
         "mode": "markers",
         "name": "Creative Packaging",
         "text": [
          "Creative Packaging<br>Warehouse Location: Shelbyville, KY",
          "Creative Packaging<br>Warehouse Location: Vineland, NJ",
          "Creative Packaging<br>Warehouse Location: Unadilla, GA",
          "Creative Packaging<br>Warehouse Location: Chicago, IL",
          "Creative Packaging<br>Warehouse Location: Ft. Worth, TX"
         ],
         "type": "scattergeo"
        },
        {
         "lat": [
          33.4483771
         ],
         "locationmode": "USA-states",
         "lon": [
          -112.0740373
         ],
         "marker": {
          "size": 15,
          "symbol": 6
         },
         "mode": "markers",
         "name": "Custom Pack",
         "text": [
          "Custom Pack<br>Warehouse Location: Phoenix, AZ"
         ],
         "type": "scattergeo"
        },
        {
         "lat": [
          41.5114731
         ],
         "locationmode": "USA-states",
         "lon": [
          -75.96954649999999
         ],
         "marker": {
          "size": 15,
          "symbol": 6
         },
         "mode": "markers",
         "name": "Insulated Products Corp (IPC)",
         "text": [
          "Insulated Products Corp (IPC)<br>Warehouse Location: Eaton, PA"
         ],
         "type": "scattergeo"
        },
        {
         "lat": [
          34.0549076
         ],
         "locationmode": "USA-states",
         "lon": [
          -118.242643
         ],
         "marker": {
          "size": 15,
          "symbol": 6
         },
         "mode": "markers",
         "name": "Magna LoBoy",
         "text": [
          "Magna LoBoy<br>Warehouse Location: Los Angeles, CA"
         ],
         "type": "scattergeo"
        },
        {
         "lat": [
          30.42007079999999
         ],
         "locationmode": "USA-states",
         "lon": [
          -86.6170308
         ],
         "marker": {
          "size": 15,
          "symbol": 6
         },
         "mode": "markers",
         "name": "Speedling",
         "text": [
          "Speedling<br>Warehouse Location: Fort Walton, FL"
         ],
         "type": "scattergeo"
        },
        {
         "lat": [
          27.678254,
          47.2528768,
          61.2175758,
          47.3830671,
          38.4454641,
          34.0122346,
          40.7607793,
          33.4483771,
          39.7294319,
          41.2286493,
          28.0394654
         ],
         "locationmode": "USA-states",
         "lon": [
          -82.4787384,
          -122.4442906,
          -149.8996785,
          -122.234771,
          -121.8232958,
          -117.688944,
          -111.8910474,
          -112.0740373,
          -104.8319195,
          -96.489212,
          -81.9498042
         ],
         "marker": {
          "size": 15,
          "symbol": 6
         },
         "mode": "markers",
         "name": "Insulfoam LLC",
         "text": [
          "Insulfoam LLC<br>Warehouse Location: Sun City, FL",
          "Insulfoam LLC<br>Warehouse Location: Tacoma, WA",
          "Insulfoam LLC<br>Warehouse Location: Anchorage, AK",
          "Insulfoam LLC<br>Warehouse Location: Kent, WA",
          "Insulfoam LLC<br>Warehouse Location: Dixon, CA",
          "Insulfoam LLC<br>Warehouse Location: Chino, CA",
          "Insulfoam LLC<br>Warehouse Location: Salt Lake City, UT",
          "Insulfoam LLC<br>Warehouse Location: Phoenix, AZ",
          "Insulfoam LLC<br>Warehouse Location: Aurora, CO",
          "Insulfoam LLC<br>Warehouse Location: Mead, NE",
          "Insulfoam LLC<br>Warehouse Location: Lakeland, FL"
         ],
         "type": "scattergeo"
        },
        {
         "lat": [
          42.88644679999999
         ],
         "locationmode": "USA-states",
         "lon": [
          -78.8783689
         ],
         "marker": {
          "size": 15,
          "symbol": 6
         },
         "mode": "markers",
         "name": "Armstrong Brands",
         "text": [
          "Armstrong Brands<br>Warehouse Location: Buffalo, NY"
         ],
         "type": "scattergeo"
        }
       ],
       "layout": {
        "geo": {
         "scope": "usa"
        },
        "template": {
         "data": {
          "bar": [
           {
            "error_x": {
             "color": "#2a3f5f"
            },
            "error_y": {
             "color": "#2a3f5f"
            },
            "marker": {
             "line": {
              "color": "#E5ECF6",
              "width": 0.5
             },
             "pattern": {
              "fillmode": "overlay",
              "size": 10,
              "solidity": 0.2
             }
            },
            "type": "bar"
           }
          ],
          "barpolar": [
           {
            "marker": {
             "line": {
              "color": "#E5ECF6",
              "width": 0.5
             },
             "pattern": {
              "fillmode": "overlay",
              "size": 10,
              "solidity": 0.2
             }
            },
            "type": "barpolar"
           }
          ],
          "carpet": [
           {
            "aaxis": {
             "endlinecolor": "#2a3f5f",
             "gridcolor": "white",
             "linecolor": "white",
             "minorgridcolor": "white",
             "startlinecolor": "#2a3f5f"
            },
            "baxis": {
             "endlinecolor": "#2a3f5f",
             "gridcolor": "white",
             "linecolor": "white",
             "minorgridcolor": "white",
             "startlinecolor": "#2a3f5f"
            },
            "type": "carpet"
           }
          ],
          "choropleth": [
           {
            "colorbar": {
             "outlinewidth": 0,
             "ticks": ""
            },
            "type": "choropleth"
           }
          ],
          "contour": [
           {
            "colorbar": {
             "outlinewidth": 0,
             "ticks": ""
            },
            "colorscale": [
             [
              0,
              "#0d0887"
             ],
             [
              0.1111111111111111,
              "#46039f"
             ],
             [
              0.2222222222222222,
              "#7201a8"
             ],
             [
              0.3333333333333333,
              "#9c179e"
             ],
             [
              0.4444444444444444,
              "#bd3786"
             ],
             [
              0.5555555555555556,
              "#d8576b"
             ],
             [
              0.6666666666666666,
              "#ed7953"
             ],
             [
              0.7777777777777778,
              "#fb9f3a"
             ],
             [
              0.8888888888888888,
              "#fdca26"
             ],
             [
              1,
              "#f0f921"
             ]
            ],
            "type": "contour"
           }
          ],
          "contourcarpet": [
           {
            "colorbar": {
             "outlinewidth": 0,
             "ticks": ""
            },
            "type": "contourcarpet"
           }
          ],
          "heatmap": [
           {
            "colorbar": {
             "outlinewidth": 0,
             "ticks": ""
            },
            "colorscale": [
             [
              0,
              "#0d0887"
             ],
             [
              0.1111111111111111,
              "#46039f"
             ],
             [
              0.2222222222222222,
              "#7201a8"
             ],
             [
              0.3333333333333333,
              "#9c179e"
             ],
             [
              0.4444444444444444,
              "#bd3786"
             ],
             [
              0.5555555555555556,
              "#d8576b"
             ],
             [
              0.6666666666666666,
              "#ed7953"
             ],
             [
              0.7777777777777778,
              "#fb9f3a"
             ],
             [
              0.8888888888888888,
              "#fdca26"
             ],
             [
              1,
              "#f0f921"
             ]
            ],
            "type": "heatmap"
           }
          ],
          "heatmapgl": [
           {
            "colorbar": {
             "outlinewidth": 0,
             "ticks": ""
            },
            "colorscale": [
             [
              0,
              "#0d0887"
             ],
             [
              0.1111111111111111,
              "#46039f"
             ],
             [
              0.2222222222222222,
              "#7201a8"
             ],
             [
              0.3333333333333333,
              "#9c179e"
             ],
             [
              0.4444444444444444,
              "#bd3786"
             ],
             [
              0.5555555555555556,
              "#d8576b"
             ],
             [
              0.6666666666666666,
              "#ed7953"
             ],
             [
              0.7777777777777778,
              "#fb9f3a"
             ],
             [
              0.8888888888888888,
              "#fdca26"
             ],
             [
              1,
              "#f0f921"
             ]
            ],
            "type": "heatmapgl"
           }
          ],
          "histogram": [
           {
            "marker": {
             "pattern": {
              "fillmode": "overlay",
              "size": 10,
              "solidity": 0.2
             }
            },
            "type": "histogram"
           }
          ],
          "histogram2d": [
           {
            "colorbar": {
             "outlinewidth": 0,
             "ticks": ""
            },
            "colorscale": [
             [
              0,
              "#0d0887"
             ],
             [
              0.1111111111111111,
              "#46039f"
             ],
             [
              0.2222222222222222,
              "#7201a8"
             ],
             [
              0.3333333333333333,
              "#9c179e"
             ],
             [
              0.4444444444444444,
              "#bd3786"
             ],
             [
              0.5555555555555556,
              "#d8576b"
             ],
             [
              0.6666666666666666,
              "#ed7953"
             ],
             [
              0.7777777777777778,
              "#fb9f3a"
             ],
             [
              0.8888888888888888,
              "#fdca26"
             ],
             [
              1,
              "#f0f921"
             ]
            ],
            "type": "histogram2d"
           }
          ],
          "histogram2dcontour": [
           {
            "colorbar": {
             "outlinewidth": 0,
             "ticks": ""
            },
            "colorscale": [
             [
              0,
              "#0d0887"
             ],
             [
              0.1111111111111111,
              "#46039f"
             ],
             [
              0.2222222222222222,
              "#7201a8"
             ],
             [
              0.3333333333333333,
              "#9c179e"
             ],
             [
              0.4444444444444444,
              "#bd3786"
             ],
             [
              0.5555555555555556,
              "#d8576b"
             ],
             [
              0.6666666666666666,
              "#ed7953"
             ],
             [
              0.7777777777777778,
              "#fb9f3a"
             ],
             [
              0.8888888888888888,
              "#fdca26"
             ],
             [
              1,
              "#f0f921"
             ]
            ],
            "type": "histogram2dcontour"
           }
          ],
          "mesh3d": [
           {
            "colorbar": {
             "outlinewidth": 0,
             "ticks": ""
            },
            "type": "mesh3d"
           }
          ],
          "parcoords": [
           {
            "line": {
             "colorbar": {
              "outlinewidth": 0,
              "ticks": ""
             }
            },
            "type": "parcoords"
           }
          ],
          "pie": [
           {
            "automargin": true,
            "type": "pie"
           }
          ],
          "scatter": [
           {
            "fillpattern": {
             "fillmode": "overlay",
             "size": 10,
             "solidity": 0.2
            },
            "type": "scatter"
           }
          ],
          "scatter3d": [
           {
            "line": {
             "colorbar": {
              "outlinewidth": 0,
              "ticks": ""
             }
            },
            "marker": {
             "colorbar": {
              "outlinewidth": 0,
              "ticks": ""
             }
            },
            "type": "scatter3d"
           }
          ],
          "scattercarpet": [
           {
            "marker": {
             "colorbar": {
              "outlinewidth": 0,
              "ticks": ""
             }
            },
            "type": "scattercarpet"
           }
          ],
          "scattergeo": [
           {
            "marker": {
             "colorbar": {
              "outlinewidth": 0,
              "ticks": ""
             }
            },
            "type": "scattergeo"
           }
          ],
          "scattergl": [
           {
            "marker": {
             "colorbar": {
              "outlinewidth": 0,
              "ticks": ""
             }
            },
            "type": "scattergl"
           }
          ],
          "scattermapbox": [
           {
            "marker": {
             "colorbar": {
              "outlinewidth": 0,
              "ticks": ""
             }
            },
            "type": "scattermapbox"
           }
          ],
          "scatterpolar": [
           {
            "marker": {
             "colorbar": {
              "outlinewidth": 0,
              "ticks": ""
             }
            },
            "type": "scatterpolar"
           }
          ],
          "scatterpolargl": [
           {
            "marker": {
             "colorbar": {
              "outlinewidth": 0,
              "ticks": ""
             }
            },
            "type": "scatterpolargl"
           }
          ],
          "scatterternary": [
           {
            "marker": {
             "colorbar": {
              "outlinewidth": 0,
              "ticks": ""
             }
            },
            "type": "scatterternary"
           }
          ],
          "surface": [
           {
            "colorbar": {
             "outlinewidth": 0,
             "ticks": ""
            },
            "colorscale": [
             [
              0,
              "#0d0887"
             ],
             [
              0.1111111111111111,
              "#46039f"
             ],
             [
              0.2222222222222222,
              "#7201a8"
             ],
             [
              0.3333333333333333,
              "#9c179e"
             ],
             [
              0.4444444444444444,
              "#bd3786"
             ],
             [
              0.5555555555555556,
              "#d8576b"
             ],
             [
              0.6666666666666666,
              "#ed7953"
             ],
             [
              0.7777777777777778,
              "#fb9f3a"
             ],
             [
              0.8888888888888888,
              "#fdca26"
             ],
             [
              1,
              "#f0f921"
             ]
            ],
            "type": "surface"
           }
          ],
          "table": [
           {
            "cells": {
             "fill": {
              "color": "#EBF0F8"
             },
             "line": {
              "color": "white"
             }
            },
            "header": {
             "fill": {
              "color": "#C8D4E3"
             },
             "line": {
              "color": "white"
             }
            },
            "type": "table"
           }
          ]
         },
         "layout": {
          "annotationdefaults": {
           "arrowcolor": "#2a3f5f",
           "arrowhead": 0,
           "arrowwidth": 1
          },
          "autotypenumbers": "strict",
          "coloraxis": {
           "colorbar": {
            "outlinewidth": 0,
            "ticks": ""
           }
          },
          "colorscale": {
           "diverging": [
            [
             0,
             "#8e0152"
            ],
            [
             0.1,
             "#c51b7d"
            ],
            [
             0.2,
             "#de77ae"
            ],
            [
             0.3,
             "#f1b6da"
            ],
            [
             0.4,
             "#fde0ef"
            ],
            [
             0.5,
             "#f7f7f7"
            ],
            [
             0.6,
             "#e6f5d0"
            ],
            [
             0.7,
             "#b8e186"
            ],
            [
             0.8,
             "#7fbc41"
            ],
            [
             0.9,
             "#4d9221"
            ],
            [
             1,
             "#276419"
            ]
           ],
           "sequential": [
            [
             0,
             "#0d0887"
            ],
            [
             0.1111111111111111,
             "#46039f"
            ],
            [
             0.2222222222222222,
             "#7201a8"
            ],
            [
             0.3333333333333333,
             "#9c179e"
            ],
            [
             0.4444444444444444,
             "#bd3786"
            ],
            [
             0.5555555555555556,
             "#d8576b"
            ],
            [
             0.6666666666666666,
             "#ed7953"
            ],
            [
             0.7777777777777778,
             "#fb9f3a"
            ],
            [
             0.8888888888888888,
             "#fdca26"
            ],
            [
             1,
             "#f0f921"
            ]
           ],
           "sequentialminus": [
            [
             0,
             "#0d0887"
            ],
            [
             0.1111111111111111,
             "#46039f"
            ],
            [
             0.2222222222222222,
             "#7201a8"
            ],
            [
             0.3333333333333333,
             "#9c179e"
            ],
            [
             0.4444444444444444,
             "#bd3786"
            ],
            [
             0.5555555555555556,
             "#d8576b"
            ],
            [
             0.6666666666666666,
             "#ed7953"
            ],
            [
             0.7777777777777778,
             "#fb9f3a"
            ],
            [
             0.8888888888888888,
             "#fdca26"
            ],
            [
             1,
             "#f0f921"
            ]
           ]
          },
          "colorway": [
           "#636efa",
           "#EF553B",
           "#00cc96",
           "#ab63fa",
           "#FFA15A",
           "#19d3f3",
           "#FF6692",
           "#B6E880",
           "#FF97FF",
           "#FECB52"
          ],
          "font": {
           "color": "#2a3f5f"
          },
          "geo": {
           "bgcolor": "white",
           "lakecolor": "white",
           "landcolor": "#E5ECF6",
           "showlakes": true,
           "showland": true,
           "subunitcolor": "white"
          },
          "hoverlabel": {
           "align": "left"
          },
          "hovermode": "closest",
          "mapbox": {
           "style": "light"
          },
          "paper_bgcolor": "white",
          "plot_bgcolor": "#E5ECF6",
          "polar": {
           "angularaxis": {
            "gridcolor": "white",
            "linecolor": "white",
            "ticks": ""
           },
           "bgcolor": "#E5ECF6",
           "radialaxis": {
            "gridcolor": "white",
            "linecolor": "white",
            "ticks": ""
           }
          },
          "scene": {
           "xaxis": {
            "backgroundcolor": "#E5ECF6",
            "gridcolor": "white",
            "gridwidth": 2,
            "linecolor": "white",
            "showbackground": true,
            "ticks": "",
            "zerolinecolor": "white"
           },
           "yaxis": {
            "backgroundcolor": "#E5ECF6",
            "gridcolor": "white",
            "gridwidth": 2,
            "linecolor": "white",
            "showbackground": true,
            "ticks": "",
            "zerolinecolor": "white"
           },
           "zaxis": {
            "backgroundcolor": "#E5ECF6",
            "gridcolor": "white",
            "gridwidth": 2,
            "linecolor": "white",
            "showbackground": true,
            "ticks": "",
            "zerolinecolor": "white"
           }
          },
          "shapedefaults": {
           "line": {
            "color": "#2a3f5f"
           }
          },
          "ternary": {
           "aaxis": {
            "gridcolor": "white",
            "linecolor": "white",
            "ticks": ""
           },
           "baxis": {
            "gridcolor": "white",
            "linecolor": "white",
            "ticks": ""
           },
           "bgcolor": "#E5ECF6",
           "caxis": {
            "gridcolor": "white",
            "linecolor": "white",
            "ticks": ""
           }
          },
          "title": {
           "x": 0.05
          },
          "xaxis": {
           "automargin": true,
           "gridcolor": "white",
           "linecolor": "white",
           "ticks": "",
           "title": {
            "standoff": 15
           },
           "zerolinecolor": "white",
           "zerolinewidth": 2
          },
          "yaxis": {
           "automargin": true,
           "gridcolor": "white",
           "linecolor": "white",
           "ticks": "",
           "title": {
            "standoff": 15
           },
           "zerolinecolor": "white",
           "zerolinewidth": 2
          }
         }
        },
        "title": {
         "text": "Location of All Companies<br>(Hover for info)"
        }
       }
      }
     },
     "metadata": {},
     "output_type": "display_data"
    }
   ],
   "source": [
    "\n",
    "# Create a plotly figure\n",
    "fig = go.Figure()\n",
    "\n",
    "# Looping thru all the company names\n",
    "for company in df.company.unique():\n",
    "    # Adding traces by company\n",
    "    fig.add_trace(go.Scattergeo(\n",
    "        locationmode=\"USA-states\",\n",
    "        lat=df.query(f\"company == '{company}'\")[\"latitude\"], lon=df.query(f\"company == '{company}'\")[\"longitude\"],\n",
    "        text=df.query(f\"company == '{company}'\")[\"text\"], mode=\"markers\",\n",
    "        marker = dict(\n",
    "            size=15,\n",
    "            symbol=6,\n",
    "        ), name=company\n",
    "    ))\n",
    "\n",
    "fig.update_layout(\n",
    "        title = 'Location of All Companies<br>(Hover for info)',\n",
    "        geo_scope='usa',\n",
    "    )\n",
    "# fig.update_geos(projection_type=\"natural earth\") \n",
    "\n",
    "fig.show()"
   ]
  }
 ],
 "metadata": {
  "kernelspec": {
   "display_name": "Competitor Analysis",
   "language": "python",
   "name": "python3"
  },
  "language_info": {
   "codemirror_mode": {
    "name": "ipython",
    "version": 3
   },
   "file_extension": ".py",
   "mimetype": "text/x-python",
   "name": "python",
   "nbconvert_exporter": "python",
   "pygments_lexer": "ipython3",
   "version": "3.12.4"
  }
 },
 "nbformat": 4,
 "nbformat_minor": 2
}
