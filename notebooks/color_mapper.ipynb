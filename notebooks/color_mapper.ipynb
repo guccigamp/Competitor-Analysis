{
 "cells": [
  {
   "cell_type": "code",
   "execution_count": 15,
   "metadata": {},
   "outputs": [
    {
     "name": "stdout",
     "output_type": "stream",
     "text": [
      "['#f67088' '#f7736f' '#f77546' '#e88131' '#d78b31' '#c99131' '#bd9731'\n",
      " '#b29b31' '#a69f31' '#9aa231' '#8ba631' '#79aa31' '#5dae31' '#31b241'\n",
      " '#32b169' '#33af7d' '#34ae8b' '#34ad96' '#35ad9f' '#35aca8' '#36abb0'\n",
      " '#37aab9' '#37a9c3' '#38a7ce' '#3aa5de' '#3ea1f4' '#7299f4' '#9192f4'\n",
      " '#a98af4' '#bf80f4' '#d474f4' '#eb63f4' '#f45fe5' '#f564d1' '#f567c0'\n",
      " '#f66aaf' '#f66d9e']\n"
     ]
    },
    {
     "name": "stderr",
     "output_type": "stream",
     "text": [
      "<>:4: SyntaxWarning: invalid escape sequence '\\d'\n",
      "<>:4: SyntaxWarning: invalid escape sequence '\\d'\n",
      "C:\\Users\\shaha\\AppData\\Local\\Temp\\ipykernel_34692\\1391814545.py:4: SyntaxWarning: invalid escape sequence '\\d'\n",
      "  df = pd.read_csv('..\\datasets\\companies_locations.csv')\n"
     ]
    }
   ],
   "source": [
    "import pandas as pd\n",
    "import seaborn as sns\n",
    "\n",
    "df = pd.read_csv('..\\datasets\\companies_locations.csv')\n",
    "\n",
    "# Identify unique companies in the dataset\n",
    "unique_companies = df['company'].unique()\n",
    "\n",
    "# Get distinct color palette with enough colors for all unique companies\n",
    "num_companies = len(unique_companies)\n",
    "palette = sns.color_palette('husl', num_companies)\n",
    "\n",
    "# Map each unique company to a distinct color from the palette\n",
    "company_colors_unique = {company: palette[i] for i, company in enumerate(unique_companies)}\n",
    "\n",
    "# Convert RGB colors to Hex colors, skipping the alpha channel\n",
    "company_colors_hex_unique = {company: '#{:02x}{:02x}{:02x}'.format(int(r*255), int(g*255), int(b*255)) \n",
    "                             for company, (r, g, b) in company_colors_unique.items()}\n",
    "\n",
    "# Assign the corresponding unique color to each company in a new 'Color' column\n",
    "df['color'] = df['company'].map(company_colors_hex_unique)\n",
    "\n",
    "print(df.color.unique())"
   ]
  },
  {
   "cell_type": "code",
   "execution_count": 18,
   "metadata": {},
   "outputs": [],
   "source": [
    "df.to_csv(\"../datasets/companies_locations.csv\", index=False)"
   ]
  }
 ],
 "metadata": {
  "kernelspec": {
   "display_name": "base",
   "language": "python",
   "name": "python3"
  },
  "language_info": {
   "codemirror_mode": {
    "name": "ipython",
    "version": 3
   },
   "file_extension": ".py",
   "mimetype": "text/x-python",
   "name": "python",
   "nbconvert_exporter": "python",
   "pygments_lexer": "ipython3",
   "version": "3.12.3"
  }
 },
 "nbformat": 4,
 "nbformat_minor": 2
}
